{
 "cells": [
  {
   "cell_type": "markdown",
   "id": "4c4c211d-de8c-4542-951c-10bdbd11efcb",
   "metadata": {},
   "source": [
    "# A"
   ]
  },
  {
   "cell_type": "code",
   "execution_count": 2,
   "id": "a118cb31-3b9a-49e0-8713-60915095b098",
   "metadata": {},
   "outputs": [
    {
     "name": "stdin",
     "output_type": "stream",
     "text": [
      " 1 0\n"
     ]
    },
    {
     "name": "stdout",
     "output_type": "stream",
     "text": [
      "Yes\n"
     ]
    }
   ],
   "source": [
    "L, R = map(int, input().split())\n",
    "if (L+R)%2 == 0:\n",
    "    print('Invalid')\n",
    "elif L == 1:\n",
    "    print('Yes')\n",
    "else:\n",
    "    print('No')"
   ]
  },
  {
   "cell_type": "code",
   "execution_count": null,
   "id": "6968cf62-279b-4cdd-914b-45b456d76eb1",
   "metadata": {},
   "outputs": [],
   "source": []
  },
  {
   "cell_type": "code",
   "execution_count": null,
   "id": "74c32bc7-d15e-48ee-a50d-007b1bba4b3b",
   "metadata": {},
   "outputs": [],
   "source": []
  },
  {
   "cell_type": "code",
   "execution_count": null,
   "id": "6e71310a-0250-49e1-a2ce-e5ad7a93ce2c",
   "metadata": {},
   "outputs": [],
   "source": []
  },
  {
   "cell_type": "code",
   "execution_count": null,
   "id": "c873ee57-800b-493c-9ce0-cc0fa2365eff",
   "metadata": {},
   "outputs": [],
   "source": []
  },
  {
   "cell_type": "code",
   "execution_count": null,
   "id": "0bb7b43e-4885-4939-9281-faf4326459a8",
   "metadata": {},
   "outputs": [],
   "source": []
  },
  {
   "cell_type": "code",
   "execution_count": null,
   "id": "d0624483-c683-4fe0-bc7f-1bc396e4ee00",
   "metadata": {},
   "outputs": [],
   "source": []
  },
  {
   "cell_type": "code",
   "execution_count": null,
   "id": "f62c3504-4982-41f8-a217-081257a0adb0",
   "metadata": {},
   "outputs": [],
   "source": []
  },
  {
   "cell_type": "code",
   "execution_count": null,
   "id": "cdbeb922-4905-4036-8a7e-87f458c341c9",
   "metadata": {},
   "outputs": [],
   "source": []
  },
  {
   "cell_type": "markdown",
   "id": "3dd19196-7e2e-4d62-9f82-a5dc9456882d",
   "metadata": {},
   "source": [
    "# B"
   ]
  },
  {
   "cell_type": "code",
   "execution_count": 4,
   "id": "673ba020-3a43-410a-84db-efe97e384c24",
   "metadata": {},
   "outputs": [
    {
     "name": "stdin",
     "output_type": "stream",
     "text": [
      " 4\n",
      " 3\n",
      " 2 4\n",
      " 3 1 2\n",
      " 2 1 2 4\n"
     ]
    }
   ],
   "source": [
    "N = int(input())\n",
    "dic = dict()\n",
    "for i in range(1, N+1):\n",
    "    data = list(map(int, input().split()))\n",
    "    dic[i] = data"
   ]
  },
  {
   "cell_type": "code",
   "execution_count": 50,
   "id": "90f21666-0914-4d2d-accf-52c11dfd96bd",
   "metadata": {},
   "outputs": [
    {
     "data": {
      "text/plain": [
       "{1: [3], 2: [2, 4], 3: [3, 1, 2], 4: [2, 1, 2, 4]}"
      ]
     },
     "execution_count": 50,
     "metadata": {},
     "output_type": "execute_result"
    }
   ],
   "source": [
    "dic"
   ]
  },
  {
   "cell_type": "code",
   "execution_count": 51,
   "id": "fb1de01f-7b52-4bc3-806e-93f3b2d0f004",
   "metadata": {},
   "outputs": [
    {
     "data": {
      "text/plain": [
       "3"
      ]
     },
     "execution_count": 51,
     "metadata": {},
     "output_type": "execute_result"
    }
   ],
   "source": [
    "first = dic[1][0]\n",
    "first"
   ]
  },
  {
   "cell_type": "code",
   "execution_count": 52,
   "id": "c5fb8635-4431-41ca-a919-a6c333207ed6",
   "metadata": {},
   "outputs": [
    {
     "name": "stdout",
     "output_type": "stream",
     "text": [
      "3 2\n",
      "1\n",
      "1 3\n",
      "3\n",
      "3 4\n",
      "2\n"
     ]
    }
   ],
   "source": [
    "for i in range(2, N+1):\n",
    "    if i > first:\n",
    "        first = dic[i][first-1]\n",
    "    else:\n",
    "        first = dic[first][i-1]\n",
    "    print(first)"
   ]
  },
  {
   "cell_type": "code",
   "execution_count": null,
   "id": "bb5b35eb-8405-45e9-a2bf-2de2144ebb8b",
   "metadata": {},
   "outputs": [],
   "source": []
  },
  {
   "cell_type": "code",
   "execution_count": null,
   "id": "45176f3f-4c64-4def-925a-03b692c97791",
   "metadata": {},
   "outputs": [],
   "source": []
  },
  {
   "cell_type": "code",
   "execution_count": 54,
   "id": "25c0b59b-de17-42a7-922a-ca816e31c2cf",
   "metadata": {},
   "outputs": [
    {
     "name": "stdin",
     "output_type": "stream",
     "text": [
      " 6\n",
      " 2\n",
      " 1 5\n",
      " 1 6 3\n",
      " 2 6 1 4\n",
      " 2 1 1 1 6\n",
      " 5 6 1 2 2 5\n"
     ]
    },
    {
     "name": "stdout",
     "output_type": "stream",
     "text": [
      "5\n"
     ]
    }
   ],
   "source": [
    "N = int(input())\n",
    "dic = dict()\n",
    "for i in range(1, N+1):\n",
    "    data = list(map(int, input().split()))\n",
    "    dic[i] = data\n",
    "\n",
    "first = dic[1][0]\n",
    "for i in range(2, N+1):\n",
    "    if i > first:\n",
    "        first = dic[i][first-1]\n",
    "    else:\n",
    "        first = dic[first][i-1]\n",
    "print(first)"
   ]
  },
  {
   "cell_type": "code",
   "execution_count": null,
   "id": "c5ce13fb-03a1-46de-9a64-60a7527de534",
   "metadata": {},
   "outputs": [],
   "source": []
  },
  {
   "cell_type": "code",
   "execution_count": null,
   "id": "c9f58116-c707-48ba-a841-d7e4cb8d4b90",
   "metadata": {},
   "outputs": [],
   "source": []
  },
  {
   "cell_type": "code",
   "execution_count": null,
   "id": "29a95350-4258-4510-a34a-899c205b38c7",
   "metadata": {},
   "outputs": [],
   "source": []
  },
  {
   "cell_type": "markdown",
   "id": "25e53559-493a-4f66-8248-6bdbb7924ead",
   "metadata": {},
   "source": [
    "# C"
   ]
  },
  {
   "cell_type": "code",
   "execution_count": null,
   "id": "87d05e64-4890-4c2f-8b1a-57bc0c08b777",
   "metadata": {},
   "outputs": [],
   "source": [
    "S = input()\n",
    "T = input()\n"
   ]
  },
  {
   "cell_type": "code",
   "execution_count": 69,
   "id": "9037dac3-f56b-4c73-aee0-dab26b908f9c",
   "metadata": {},
   "outputs": [
    {
     "name": "stdout",
     "output_type": "stream",
     "text": [
      "3\n",
      "bdbe\n",
      "bcbe\n",
      "bcbc\n"
     ]
    }
   ],
   "source": [
    "import copy\n",
    "S = list('adbe')\n",
    "T = list('bcbc')\n",
    "count = 0\n",
    "li = []\n",
    "for i in range(len(S)):\n",
    "    if S[i] != T[i]:\n",
    "        count += 1\n",
    "        S[i] = T[i]\n",
    "        li.append(copy.copy(S))\n",
    "print(i)\n",
    "for s in li:\n",
    "    result = ''\n",
    "    for alf in s:\n",
    "        result += alf\n",
    "    print(result)\n",
    "    "
   ]
  },
  {
   "cell_type": "code",
   "execution_count": 65,
   "id": "242f86e2-d60f-4bd6-8f00-502c025a3493",
   "metadata": {},
   "outputs": [
    {
     "data": {
      "text/plain": [
       "[['b', 'c', 'b', 'c'], ['b', 'c', 'b', 'c'], ['b', 'c', 'b', 'c']]"
      ]
     },
     "execution_count": 65,
     "metadata": {},
     "output_type": "execute_result"
    }
   ],
   "source": [
    "li"
   ]
  },
  {
   "cell_type": "code",
   "execution_count": 62,
   "id": "84d03d5a-6f10-4d35-b283-20a532ac99b6",
   "metadata": {},
   "outputs": [
    {
     "data": {
      "text/plain": [
       "['b', 'd', 'b', 'e']"
      ]
     },
     "execution_count": 62,
     "metadata": {},
     "output_type": "execute_result"
    }
   ],
   "source": [
    "S"
   ]
  },
  {
   "cell_type": "code",
   "execution_count": null,
   "id": "14eca52a-1bf5-48f3-a5eb-25a1a52a0fed",
   "metadata": {},
   "outputs": [],
   "source": []
  },
  {
   "cell_type": "code",
   "execution_count": 75,
   "id": "2d618fbb-2be9-4453-8fd8-71ad8c4aff9f",
   "metadata": {},
   "outputs": [
    {
     "name": "stdin",
     "output_type": "stream",
     "text": [
      " afwgebrw\n",
      " oarbrenq\n"
     ]
    },
    {
     "name": "stdout",
     "output_type": "stream",
     "text": [
      "8\n",
      "ofwgebrw\n",
      "oawgebrw\n",
      "oargebrw\n",
      "oarbebrw\n",
      "oarbrbrw\n",
      "oarbrerw\n",
      "oarbrenw\n",
      "oarbrenq\n"
     ]
    }
   ],
   "source": [
    "import copy\n",
    "S = list(input())\n",
    "T = list(input())\n",
    "count = 0\n",
    "li = []\n",
    "for i in range(len(S)):\n",
    "    if S[i] != T[i]:\n",
    "        count += 1\n",
    "        S[i] = T[i]\n",
    "        li.append(copy.copy(S))\n",
    "print(count)\n",
    "for s in li:\n",
    "    result = ''\n",
    "    for alf in s:\n",
    "        result += alf\n",
    "    print(result)\n",
    "    "
   ]
  },
  {
   "cell_type": "code",
   "execution_count": null,
   "id": "ccf2d111-6e60-40d1-948a-db5f272bf8bc",
   "metadata": {},
   "outputs": [],
   "source": []
  },
  {
   "cell_type": "code",
   "execution_count": null,
   "id": "262b10ae-68f2-4e95-bc7e-9969a869ea3b",
   "metadata": {},
   "outputs": [],
   "source": [
    "S = list('adbe')\n",
    "T = list('bcbc')\n"
   ]
  },
  {
   "cell_type": "code",
   "execution_count": 102,
   "id": "53494440-5982-4b5b-bbb2-753786d064b7",
   "metadata": {},
   "outputs": [
    {
     "name": "stdout",
     "output_type": "stream",
     "text": [
      "3\n",
      "acbe\n",
      "acbc\n",
      "bcbc\n"
     ]
    }
   ],
   "source": [
    "import copy\n",
    "S = list('adbe')\n",
    "T = list('bcbc')\n",
    "result = []\n",
    "while True:\n",
    "    if S == T:\n",
    "        break\n",
    "    else:\n",
    "        li = []\n",
    "        for i in range(len(S)):\n",
    "            if S[i] != T[i]:\n",
    "                S_ = copy.copy(S)\n",
    "                S_[i] = T[i]\n",
    "                li.append(''.join(S_))\n",
    "        li.sort()\n",
    "        S = list(li[0])\n",
    "        result.append(S)\n",
    "print(len(result))\n",
    "for s in result:\n",
    "    print(''.join(s))"
   ]
  },
  {
   "cell_type": "code",
   "execution_count": 99,
   "id": "5c498704-8acc-4991-b543-d35d9f69dda3",
   "metadata": {},
   "outputs": [
    {
     "data": {
      "text/plain": [
       "4"
      ]
     },
     "execution_count": 99,
     "metadata": {},
     "output_type": "execute_result"
    }
   ],
   "source": [
    "count"
   ]
  },
  {
   "cell_type": "code",
   "execution_count": 92,
   "id": "080e2729-df10-4dd9-b991-1b983a740953",
   "metadata": {},
   "outputs": [
    {
     "data": {
      "text/plain": [
       "(['a', 'd', 'b', 'e'], ['acbe', 'adbc', 'bdbe'])"
      ]
     },
     "execution_count": 92,
     "metadata": {},
     "output_type": "execute_result"
    }
   ],
   "source": [
    "S,li"
   ]
  },
  {
   "cell_type": "code",
   "execution_count": null,
   "id": "8d33f155-e542-4dd6-839d-ff8d7ae41378",
   "metadata": {},
   "outputs": [],
   "source": []
  },
  {
   "cell_type": "code",
   "execution_count": 104,
   "id": "0f36861c-2ccb-458b-88f1-75744c51636d",
   "metadata": {},
   "outputs": [
    {
     "name": "stdin",
     "output_type": "stream",
     "text": [
      " afwgebrw\n",
      " oarbrenq\n"
     ]
    },
    {
     "name": "stdout",
     "output_type": "stream",
     "text": [
      "8\n",
      "aawgebrw\n",
      "aargebrw\n",
      "aarbebrw\n",
      "aarbebnw\n",
      "aarbebnq\n",
      "aarbeenq\n",
      "aarbrenq\n",
      "oarbrenq\n"
     ]
    }
   ],
   "source": [
    "import copy\n",
    "S = list(input())\n",
    "T = list(input())\n",
    "result = []\n",
    "while True:\n",
    "    if S == T:\n",
    "        break\n",
    "    else:\n",
    "        li = []\n",
    "        for i in range(len(S)):\n",
    "            if S[i] != T[i]:\n",
    "                S_ = copy.copy(S)\n",
    "                S_[i] = T[i]\n",
    "                li.append(''.join(S_))\n",
    "        li.sort()\n",
    "        S = list(li[0])\n",
    "        result.append(S)\n",
    "print(len(result))\n",
    "for s in result:\n",
    "    print(''.join(s))"
   ]
  },
  {
   "cell_type": "code",
   "execution_count": null,
   "id": "3cfc2e32-78fc-43be-9d08-89139b8146e9",
   "metadata": {},
   "outputs": [],
   "source": []
  },
  {
   "cell_type": "code",
   "execution_count": null,
   "id": "72bb7dc3-6dbd-4598-ae15-4b8b77745f78",
   "metadata": {},
   "outputs": [],
   "source": []
  },
  {
   "cell_type": "markdown",
   "id": "3a364824-9a1d-4d23-b358-add5f65dc01b",
   "metadata": {},
   "source": [
    "# D"
   ]
  },
  {
   "cell_type": "code",
   "execution_count": null,
   "id": "d3a3d208-df8a-44b5-9952-5f9245ad6100",
   "metadata": {},
   "outputs": [],
   "source": [
    "H, W, Q = map(int, input().split())\n",
    "wall = [[1 for i in range(W)] for j in range(H)]\n",
    "for i in range(Q):\n",
    "    R, C = map(int, input().split())\n",
    "    "
   ]
  },
  {
   "cell_type": "code",
   "execution_count": 105,
   "id": "9cbe4f41-0828-4c87-b668-4ff39a2154f2",
   "metadata": {},
   "outputs": [],
   "source": [
    "H, W = 2, 4\n",
    "wall = [[1 for i in range(W)] for j in range(H)]"
   ]
  },
  {
   "cell_type": "code",
   "execution_count": 109,
   "id": "94083109-560b-4e94-8a25-0baea3170872",
   "metadata": {},
   "outputs": [],
   "source": [
    "R, C = 1, 2\n",
    "if wall[R-1][C-1] == 1:\n",
    "    wall[R-1][C-1] = 0"
   ]
  },
  {
   "cell_type": "code",
   "execution_count": 110,
   "id": "f1e817a3-cd64-4353-bae5-44154662b300",
   "metadata": {},
   "outputs": [
    {
     "data": {
      "text/plain": [
       "[[1, 0, 1, 1], [1, 1, 1, 1]]"
      ]
     },
     "execution_count": 110,
     "metadata": {},
     "output_type": "execute_result"
    }
   ],
   "source": [
    "wall"
   ]
  },
  {
   "cell_type": "code",
   "execution_count": null,
   "id": "e028d697-d64f-42a0-a24f-6b335c8ab225",
   "metadata": {},
   "outputs": [],
   "source": []
  },
  {
   "cell_type": "code",
   "execution_count": 115,
   "id": "aaabeea1-e804-425a-b88a-2dac9875eb9e",
   "metadata": {},
   "outputs": [],
   "source": [
    "R, C = 1, 2\n",
    "if wall[R-1][C-1] == 1:\n",
    "    wall[R-1][C-1] = 0\n",
    "else:\n",
    "    move = 1\n",
    "    while True:\n",
    "        try:\n",
    "            if wall[R-1-move][C-1] == 1:\n",
    "                wall[R-1-move][C-1] = 0\n",
    "                break\n",
    "            else:\n",
    "                move += 1\n",
    "        except:\n",
    "            break\n",
    "\n",
    "    while True:\n",
    "        try:\n",
    "            if wall[R-1+move][C-1] == 1:\n",
    "                wall[R-1+move][C-1] = 0\n",
    "                break\n",
    "            else:\n",
    "                move += 1\n",
    "        except:\n",
    "            break\n",
    "\n",
    "    while True:\n",
    "        try:\n",
    "            if wall[R-1][C-1-move] == 1:\n",
    "                wall[R-1][C-1-move] = 0\n",
    "                break\n",
    "            else:\n",
    "                move += 1\n",
    "        except:\n",
    "            break\n",
    "\n",
    "    while True:\n",
    "        try:\n",
    "            if wall[R-1][C-1+move] == 1:\n",
    "                wall[R-1][C-1+move] = 0\n",
    "                break\n",
    "            else:\n",
    "                move += 1\n",
    "        except:\n",
    "            break"
   ]
  },
  {
   "cell_type": "code",
   "execution_count": 116,
   "id": "d7cc8f54-a6ba-47fa-9d2d-bbea732bb973",
   "metadata": {},
   "outputs": [
    {
     "data": {
      "text/plain": [
       "[[1, 0, 0, 1], [1, 0, 1, 1]]"
      ]
     },
     "execution_count": 116,
     "metadata": {},
     "output_type": "execute_result"
    }
   ],
   "source": [
    "wall"
   ]
  },
  {
   "cell_type": "code",
   "execution_count": null,
   "id": "1dc0301f-d5c2-4802-a3bd-a3c0f16e24d8",
   "metadata": {},
   "outputs": [],
   "source": []
  },
  {
   "cell_type": "code",
   "execution_count": null,
   "id": "ca1463e5-3b2b-498c-a916-da9069b14f8d",
   "metadata": {},
   "outputs": [],
   "source": []
  },
  {
   "cell_type": "code",
   "execution_count": null,
   "id": "b778e8ba-e462-4550-9929-18670d945043",
   "metadata": {},
   "outputs": [],
   "source": []
  },
  {
   "cell_type": "code",
   "execution_count": null,
   "id": "be6f4095-95c7-4f8c-8503-8fc21762744f",
   "metadata": {},
   "outputs": [],
   "source": []
  },
  {
   "cell_type": "code",
   "execution_count": 121,
   "id": "7f8f0115-c2b4-4f08-99d9-6bb360d47899",
   "metadata": {},
   "outputs": [
    {
     "name": "stdin",
     "output_type": "stream",
     "text": [
      " 2 4 3\n"
     ]
    },
    {
     "name": "stdout",
     "output_type": "stream",
     "text": [
      "[[1, 1, 1, 1], [1, 1, 1, 1]]\n"
     ]
    },
    {
     "name": "stdin",
     "output_type": "stream",
     "text": [
      " 1 2\n"
     ]
    },
    {
     "name": "stdout",
     "output_type": "stream",
     "text": [
      "[[1, 0, 1, 1], [1, 1, 1, 1]]\n"
     ]
    },
    {
     "name": "stdin",
     "output_type": "stream",
     "text": [
      " 1 2\n"
     ]
    },
    {
     "name": "stdout",
     "output_type": "stream",
     "text": [
      "[[0, 0, 0, 1], [1, 0, 1, 1]]\n"
     ]
    },
    {
     "name": "stdin",
     "output_type": "stream",
     "text": [
      " 1 3\n"
     ]
    }
   ],
   "source": [
    "H, W, Q = map(int, input().split())\n",
    "wall = [[1 for i in range(W)] for j in range(H)]\n",
    "for i in range(Q):\n",
    "    R, C = map(int, input().split())\n",
    "    if wall[R-1][C-1] == 1:\n",
    "        wall[R-1][C-1] = 0\n",
    "    else:\n",
    "        move = 1\n",
    "        while True:\n",
    "            try:\n",
    "                if wall[R-1-move][C-1] == 1:\n",
    "                    wall[R-1-move][C-1] = 0\n",
    "                    break\n",
    "                else:\n",
    "                    move += 1\n",
    "            except:\n",
    "                break\n",
    "        move=1\n",
    "        while True:\n",
    "            try:\n",
    "                if wall[R-1+move][C-1] == 1:\n",
    "                    wall[R-1+move][C-1] = 0\n",
    "                    break\n",
    "                else:\n",
    "                    move += 1\n",
    "            except:\n",
    "                break\n",
    "        move=1\n",
    "        while True:\n",
    "            try:\n",
    "                if wall[R-1][C-1-move] == 1:\n",
    "                    wall[R-1][C-1-move] = 0\n",
    "                    break\n",
    "                else:\n",
    "                    move += 1\n",
    "            except:\n",
    "                break\n",
    "        move=1\n",
    "        while True:\n",
    "            try:\n",
    "                if wall[R-1][C-1+move] == 1:\n",
    "                    wall[R-1][C-1+move] = 0\n",
    "                    break\n",
    "                else:\n",
    "                    move += 1\n",
    "            except:\n",
    "                break\n",
    "\n",
    "result = 0\n",
    "for i in range(H):\n",
    "    result += sum(wall[i])\n",
    "print(result)"
   ]
  },
  {
   "cell_type": "code",
   "execution_count": 122,
   "id": "b0e1c873-540d-494b-9ef2-b252a32c4e33",
   "metadata": {},
   "outputs": [
    {
     "data": {
      "text/plain": [
       "[[0, 0, 0, 0], [1, 0, 0, 1]]"
      ]
     },
     "execution_count": 122,
     "metadata": {},
     "output_type": "execute_result"
    }
   ],
   "source": [
    "wall"
   ]
  },
  {
   "cell_type": "code",
   "execution_count": 124,
   "id": "b17cd1d1-f317-4af0-9d2d-4ff47118bf2b",
   "metadata": {},
   "outputs": [],
   "source": [
    "result = 0\n",
    "for i in range(H):\n",
    "    result += sum(wall[i])"
   ]
  },
  {
   "cell_type": "code",
   "execution_count": 125,
   "id": "1c32ab70-0d26-401f-addc-0ae7abc3277b",
   "metadata": {},
   "outputs": [
    {
     "data": {
      "text/plain": [
       "2"
      ]
     },
     "execution_count": 125,
     "metadata": {},
     "output_type": "execute_result"
    }
   ],
   "source": [
    "result"
   ]
  },
  {
   "cell_type": "code",
   "execution_count": null,
   "id": "b714a3ee-04e0-45e8-be3e-adfdbb448c9b",
   "metadata": {},
   "outputs": [],
   "source": []
  },
  {
   "cell_type": "code",
   "execution_count": null,
   "id": "20706c97-e071-4e1b-beed-9d7b6eb27cd8",
   "metadata": {},
   "outputs": [],
   "source": []
  },
  {
   "cell_type": "code",
   "execution_count": null,
   "id": "b5acda59-46ce-4713-ad67-4ae050049ce6",
   "metadata": {},
   "outputs": [],
   "source": []
  },
  {
   "cell_type": "code",
   "execution_count": null,
   "id": "289291e3-5d5e-4841-b4c7-e08cd06e2513",
   "metadata": {},
   "outputs": [],
   "source": []
  },
  {
   "cell_type": "code",
   "execution_count": null,
   "id": "1cdf8444-036b-4f57-ab7a-bb6058306dc1",
   "metadata": {},
   "outputs": [],
   "source": []
  },
  {
   "cell_type": "code",
   "execution_count": null,
   "id": "4967051d-de08-47c3-a152-ac8d73d300f9",
   "metadata": {},
   "outputs": [],
   "source": []
  },
  {
   "cell_type": "code",
   "execution_count": null,
   "id": "6f64e735-6c35-4f79-8b6f-036a7711635d",
   "metadata": {},
   "outputs": [],
   "source": []
  },
  {
   "cell_type": "code",
   "execution_count": null,
   "id": "f2da6220-1c58-40a3-90ff-9fc761f70652",
   "metadata": {},
   "outputs": [],
   "source": []
  },
  {
   "cell_type": "code",
   "execution_count": null,
   "id": "f60ec82f-c0ae-4b11-99a5-26b35a6a0bdd",
   "metadata": {},
   "outputs": [],
   "source": []
  },
  {
   "cell_type": "code",
   "execution_count": null,
   "id": "14e0870f-3941-437e-8a27-643adcde4c77",
   "metadata": {},
   "outputs": [],
   "source": []
  },
  {
   "cell_type": "code",
   "execution_count": null,
   "id": "50104ccf-50ca-4092-834b-fb0f35724a39",
   "metadata": {},
   "outputs": [],
   "source": []
  },
  {
   "cell_type": "code",
   "execution_count": null,
   "id": "925b983f-c179-4971-a6a1-65a7bde628a9",
   "metadata": {},
   "outputs": [],
   "source": []
  },
  {
   "cell_type": "code",
   "execution_count": null,
   "id": "288d6d90-d8e1-42bc-8a6a-d6a146da8109",
   "metadata": {},
   "outputs": [],
   "source": []
  },
  {
   "cell_type": "code",
   "execution_count": null,
   "id": "0fe65cc2-7494-4caa-8ebd-777244eb2f90",
   "metadata": {},
   "outputs": [],
   "source": []
  },
  {
   "cell_type": "code",
   "execution_count": null,
   "id": "39ff92f5-ae1a-407b-a460-c9b09f25da8b",
   "metadata": {},
   "outputs": [],
   "source": []
  },
  {
   "cell_type": "code",
   "execution_count": null,
   "id": "ac327b46-9099-44fb-bed9-6c3d8f0ad1e5",
   "metadata": {},
   "outputs": [],
   "source": []
  },
  {
   "cell_type": "code",
   "execution_count": null,
   "id": "77a5e4f2-4c6b-40d2-9785-532643c3ed4c",
   "metadata": {},
   "outputs": [],
   "source": []
  },
  {
   "cell_type": "code",
   "execution_count": null,
   "id": "a3d5e929-edf0-40da-bfd6-786ed9ec64ac",
   "metadata": {},
   "outputs": [],
   "source": []
  },
  {
   "cell_type": "code",
   "execution_count": null,
   "id": "45313ccd-4a0a-4b97-91d5-3d921604b423",
   "metadata": {},
   "outputs": [],
   "source": [
    "a"
   ]
  }
 ],
 "metadata": {
  "kernelspec": {
   "display_name": "Python 3 (ipykernel)",
   "language": "python",
   "name": "python3"
  },
  "language_info": {
   "codemirror_mode": {
    "name": "ipython",
    "version": 3
   },
   "file_extension": ".py",
   "mimetype": "text/x-python",
   "name": "python",
   "nbconvert_exporter": "python",
   "pygments_lexer": "ipython3",
   "version": "3.12.4"
  }
 },
 "nbformat": 4,
 "nbformat_minor": 5
}
