{
 "cells": [
  {
   "cell_type": "markdown",
   "id": "a366cfca-9575-456b-ae68-a279bcd7854b",
   "metadata": {},
   "source": [
    "# A"
   ]
  },
  {
   "cell_type": "code",
   "execution_count": 13,
   "id": "9124a4bb-4e38-471d-956b-b3bbdbcef17c",
   "metadata": {},
   "outputs": [
    {
     "name": "stdin",
     "output_type": "stream",
     "text": [
      " 5 7\n"
     ]
    },
    {
     "name": "stdout",
     "output_type": "stream",
     "text": [
      "1\n",
      "5 4\n",
      "6 5\n",
      "2\n",
      "5 3\n",
      "[3, 5, 7]\n",
      "6 4\n",
      "3\n",
      "5 2\n",
      "6 3\n",
      "[3, 5, 7]\n"
     ]
    }
   ],
   "source": [
    "A, B = map(int, input().split())\n",
    "diff = B - A\n",
    "count = 0\n",
    "for i in range(1, diff+2):\n",
    "    print(i)\n",
    "    for j in range(A, B):\n",
    "        x = j - i\n",
    "        li = [A, B, x]\n",
    "        li.sort()\n",
    "        print(j, x)\n",
    "        if (li[1] - li[0]) == (li[2] - li[1]):\n",
    "            count += 1\n",
    "            print(li)"
   ]
  },
  {
   "cell_type": "code",
   "execution_count": 13,
   "id": "a0154bc8-0a74-4b91-b896-9f892219237a",
   "metadata": {},
   "outputs": [
    {
     "name": "stdin",
     "output_type": "stream",
     "text": [
      " 5 7\n"
     ]
    },
    {
     "name": "stdout",
     "output_type": "stream",
     "text": [
      "1\n",
      "5 4\n",
      "6 5\n",
      "2\n",
      "5 3\n",
      "[3, 5, 7]\n",
      "6 4\n",
      "3\n",
      "5 2\n",
      "6 3\n",
      "[3, 5, 7]\n"
     ]
    }
   ],
   "source": [
    "A, B = map(int, input().split())\n",
    "diff = B - A\n",
    "count = 0\n",
    "for i in range(1, diff+2):\n",
    "    print(i)\n",
    "    for j in range(A, B):\n",
    "        x = j - i\n",
    "        li = [A, B, x]\n",
    "        li.sort()\n",
    "        print(j, x)\n",
    "        if (li[1] - li[0]) == (li[2] - li[1]):\n",
    "            count += 1\n",
    "            print(li)"
   ]
  },
  {
   "cell_type": "code",
   "execution_count": 14,
   "id": "5b8722eb-961d-4af5-91f3-b868c4949dc0",
   "metadata": {},
   "outputs": [
    {
     "data": {
      "text/plain": [
       "2"
      ]
     },
     "execution_count": 14,
     "metadata": {},
     "output_type": "execute_result"
    }
   ],
   "source": [
    "count"
   ]
  },
  {
   "cell_type": "code",
   "execution_count": null,
   "id": "f170e93b-1096-4c5c-b709-f72163f49a3c",
   "metadata": {},
   "outputs": [],
   "source": []
  },
  {
   "cell_type": "code",
   "execution_count": 19,
   "id": "224db2a5-4044-44d8-af9b-edbdd93bb9cc",
   "metadata": {},
   "outputs": [
    {
     "name": "stdin",
     "output_type": "stream",
     "text": [
      "  3 3\n"
     ]
    },
    {
     "name": "stdout",
     "output_type": "stream",
     "text": [
      "1\n"
     ]
    }
   ],
   "source": [
    "A, B = map(int, input().split())\n",
    "diff = abs(B - A)\n",
    "if diff == 0:\n",
    "    print(1)\n",
    "elif diff % 2 == 1:\n",
    "    print(2)\n",
    "else:\n",
    "    print(3)"
   ]
  },
  {
   "cell_type": "code",
   "execution_count": null,
   "id": "56a4b685-4b2b-46aa-9839-54e134297004",
   "metadata": {},
   "outputs": [],
   "source": []
  },
  {
   "cell_type": "code",
   "execution_count": null,
   "id": "8623c861-d5f2-4ff1-9437-c2fa678c3001",
   "metadata": {},
   "outputs": [],
   "source": []
  },
  {
   "cell_type": "code",
   "execution_count": null,
   "id": "8c2a3b47-f404-408b-8dc1-9d43cda7a4ce",
   "metadata": {},
   "outputs": [],
   "source": []
  },
  {
   "cell_type": "code",
   "execution_count": null,
   "id": "a0b32096-600a-47b2-84b2-45677e7a9daa",
   "metadata": {},
   "outputs": [],
   "source": []
  },
  {
   "cell_type": "code",
   "execution_count": null,
   "id": "a4ed8ad7-d3df-4b7f-8206-55175a9658e3",
   "metadata": {},
   "outputs": [],
   "source": []
  },
  {
   "cell_type": "markdown",
   "id": "0f753547-9aa7-4b87-ac83-471c865e3836",
   "metadata": {},
   "source": [
    "# B"
   ]
  },
  {
   "cell_type": "code",
   "execution_count": 33,
   "id": "e3af0c02-4968-40ea-b715-786b6208207f",
   "metadata": {},
   "outputs": [
    {
     "name": "stdin",
     "output_type": "stream",
     "text": [
      " 4\n",
      " 3 L\n",
      " 6 R\n",
      " 9 L\n",
      " 1 R\n"
     ]
    }
   ],
   "source": [
    "N = int(input())\n",
    "dic = dict()\n",
    "dic['a'] = []\n",
    "dic['s'] = []\n",
    "for i in range(N):\n",
    "    data = input().split()\n",
    "    dic['a'].append(int(data[0]))\n",
    "    dic['s'].append(str(data[1]))"
   ]
  },
  {
   "cell_type": "code",
   "execution_count": 34,
   "id": "af7c1794-7d8f-4f41-8de2-360fcfb30307",
   "metadata": {},
   "outputs": [
    {
     "data": {
      "text/plain": [
       "{'a': [3, 6, 9, 1], 's': ['L', 'R', 'L', 'R']}"
      ]
     },
     "execution_count": 34,
     "metadata": {},
     "output_type": "execute_result"
    }
   ],
   "source": [
    "dic"
   ]
  },
  {
   "cell_type": "code",
   "execution_count": null,
   "id": "8d83e5f8-8e09-4800-b560-059ee7b5188a",
   "metadata": {},
   "outputs": [],
   "source": []
  },
  {
   "cell_type": "code",
   "execution_count": null,
   "id": "6c6f5618-bbda-4126-bcb6-969d3ea31b73",
   "metadata": {},
   "outputs": [],
   "source": []
  },
  {
   "cell_type": "code",
   "execution_count": 49,
   "id": "358b0721-07ba-43fe-95fb-83fe6ef1ac77",
   "metadata": {
    "jp-MarkdownHeadingCollapsed": true
   },
   "outputs": [
    {
     "name": "stdin",
     "output_type": "stream",
     "text": [
      " 8\n",
      " 22 L\n",
      " 75 L\n",
      " 26 R\n",
      " 45 R\n",
      " 72 R\n",
      " 81 R\n",
      " 47 L\n",
      " 29 R\n"
     ]
    },
    {
     "name": "stdout",
     "output_type": "stream",
     "text": [
      "188\n"
     ]
    }
   ],
   "source": [
    "N = int(input())\n",
    "L_flg = 0\n",
    "R_flg = 0\n",
    "x = 0\n",
    "for i in range(N):\n",
    "    data = input().split()\n",
    "    if data[1] == 'L':\n",
    "        if L_flg == 0:\n",
    "            L_pos = int(data[0])\n",
    "            L_flg += 1\n",
    "        else:\n",
    "            L_next = int(data[0])\n",
    "            x += abs(L_next - L_pos)\n",
    "            L_pos = L_next\n",
    "    elif data[1] == 'R':\n",
    "        if R_flg == 0:\n",
    "            R_pos = int(data[0])\n",
    "            R_flg += 1\n",
    "        else:\n",
    "            R_next = int(data[0])\n",
    "            x += abs(R_next - R_pos)\n",
    "            R_pos = R_next\n",
    "print(x)"
   ]
  },
  {
   "cell_type": "code",
   "execution_count": null,
   "id": "2075bf9e-0814-4621-b60d-55fa2345c132",
   "metadata": {},
   "outputs": [],
   "source": []
  },
  {
   "cell_type": "code",
   "execution_count": null,
   "id": "7a1ec7de-341b-495d-aa3d-b826e06a6f57",
   "metadata": {},
   "outputs": [],
   "source": []
  },
  {
   "cell_type": "code",
   "execution_count": null,
   "id": "2b2fc280-f861-4658-aea8-993564c429b6",
   "metadata": {},
   "outputs": [],
   "source": []
  },
  {
   "cell_type": "code",
   "execution_count": 45,
   "id": "fe617cbf-cac9-4eca-b282-188e07f44495",
   "metadata": {},
   "outputs": [
    {
     "data": {
      "text/plain": [
       "1"
      ]
     },
     "execution_count": 45,
     "metadata": {},
     "output_type": "execute_result"
    }
   ],
   "source": [
    "x"
   ]
  },
  {
   "cell_type": "code",
   "execution_count": 43,
   "id": "1b678d02-c519-409c-9cc7-548c77906ba5",
   "metadata": {},
   "outputs": [
    {
     "data": {
      "text/plain": [
       "9"
      ]
     },
     "execution_count": 43,
     "metadata": {},
     "output_type": "execute_result"
    }
   ],
   "source": [
    "L_pos"
   ]
  },
  {
   "cell_type": "code",
   "execution_count": null,
   "id": "90f17bb1-07e7-4dd6-86be-8b31588fe1f3",
   "metadata": {},
   "outputs": [],
   "source": []
  },
  {
   "cell_type": "code",
   "execution_count": null,
   "id": "b5ab51bd-643f-4b03-ac4c-9b3ff1256e08",
   "metadata": {},
   "outputs": [],
   "source": []
  },
  {
   "cell_type": "code",
   "execution_count": null,
   "id": "1ba38f10-fa79-4171-87ee-452b628ea3f1",
   "metadata": {},
   "outputs": [],
   "source": []
  },
  {
   "cell_type": "code",
   "execution_count": null,
   "id": "f45fbbf4-658a-4e9e-a9e7-1987f7432187",
   "metadata": {},
   "outputs": [],
   "source": []
  },
  {
   "cell_type": "code",
   "execution_count": null,
   "id": "4d6b4771-e29a-4f24-bc3d-fa9dfaacb04c",
   "metadata": {},
   "outputs": [],
   "source": []
  },
  {
   "cell_type": "code",
   "execution_count": null,
   "id": "bb2f93f6-5a07-4a14-a361-5cf3045b8183",
   "metadata": {},
   "outputs": [],
   "source": []
  },
  {
   "cell_type": "markdown",
   "id": "1811374e-b19a-4c9c-a24d-626aa4f83c2f",
   "metadata": {},
   "source": [
    "# C"
   ]
  },
  {
   "cell_type": "code",
   "execution_count": 73,
   "id": "3d629d06-bc2f-4276-91c9-7501003ed189",
   "metadata": {},
   "outputs": [
    {
     "name": "stdin",
     "output_type": "stream",
     "text": [
      " 8\n",
      " 87 42 64 86 72 58 44 30\n"
     ]
    },
    {
     "name": "stdout",
     "output_type": "stream",
     "text": [
      "22\n"
     ]
    }
   ],
   "source": [
    "N = int(input())\n",
    "data = list(map(int, input().split()))\n",
    "count = 2*N - 1\n",
    "for l in range(0, N+1):\n",
    "    for r in range(l+3, N+1):\n",
    "        flg = True\n",
    "        li = data[l:r]\n",
    "        diff = li[1] - li[0]\n",
    "        for i in range(len(li) - 1):\n",
    "            if (li[i+1] - li[i]) != diff:\n",
    "                flg = False\n",
    "                break\n",
    "        if flg == True:\n",
    "            count += 1\n",
    "print(count)"
   ]
  },
  {
   "cell_type": "code",
   "execution_count": 68,
   "id": "b549c79f-004d-4552-ba36-9021186032e7",
   "metadata": {},
   "outputs": [
    {
     "data": {
      "text/plain": [
       "([3, 6, 9, 3], [3, 6])"
      ]
     },
     "execution_count": 68,
     "metadata": {},
     "output_type": "execute_result"
    }
   ],
   "source": [
    "data, data[0:2]"
   ]
  },
  {
   "cell_type": "code",
   "execution_count": 58,
   "id": "cefc8242-c6f1-493c-933f-814642ac70ec",
   "metadata": {},
   "outputs": [
    {
     "data": {
      "text/plain": [
       "[9, 3]"
      ]
     },
     "execution_count": 58,
     "metadata": {},
     "output_type": "execute_result"
    }
   ],
   "source": [
    "li"
   ]
  },
  {
   "cell_type": "code",
   "execution_count": 50,
   "id": "2b800251-2ca2-4748-8407-b0e1dbe92326",
   "metadata": {},
   "outputs": [
    {
     "data": {
      "text/plain": [
       "[3, 5, 7]"
      ]
     },
     "execution_count": 50,
     "metadata": {},
     "output_type": "execute_result"
    }
   ],
   "source": [
    "li = [3, 5, 7]\n",
    "[li[i] for i in range(len(li))]"
   ]
  },
  {
   "cell_type": "code",
   "execution_count": 51,
   "id": "0d38572c-2bb4-45d5-b35c-269ddd15af9b",
   "metadata": {},
   "outputs": [],
   "source": [
    "diff = 2"
   ]
  },
  {
   "cell_type": "code",
   "execution_count": null,
   "id": "86c48e08-4a5a-43fa-ae84-073201c8ebd8",
   "metadata": {},
   "outputs": [],
   "source": [
    "for i in range(len(li) - 1):\n",
    "    tmp = li[i+1] - li[i]\n",
    "    if diff == tmp:\n",
    "        "
   ]
  },
  {
   "cell_type": "code",
   "execution_count": null,
   "id": "64b9eb80-dc50-4fb3-b139-5648d39daefc",
   "metadata": {},
   "outputs": [],
   "source": []
  },
  {
   "cell_type": "code",
   "execution_count": null,
   "id": "e35fdcec-e6e6-4c25-a2d8-158bf3bfcfe4",
   "metadata": {},
   "outputs": [],
   "source": []
  },
  {
   "cell_type": "code",
   "execution_count": null,
   "id": "cc1e3b47-32d1-4463-a76c-916ec53aad54",
   "metadata": {},
   "outputs": [],
   "source": []
  },
  {
   "cell_type": "code",
   "execution_count": 74,
   "id": "8ea8e9de-1147-4370-b0b2-a737d5103e8e",
   "metadata": {
    "scrolled": true
   },
   "outputs": [
    {
     "name": "stdin",
     "output_type": "stream",
     "text": [
      " 8\n",
      " 87 42 64 86 72 58 44 30\n"
     ]
    },
    {
     "name": "stdout",
     "output_type": "stream",
     "text": [
      "1 4\n",
      "[42, 64, 86]\n",
      "3 6\n",
      "[86, 72, 58]\n",
      "3 7\n",
      "[86, 72, 58, 44]\n",
      "3 8\n",
      "[86, 72, 58, 44, 30]\n",
      "4 7\n",
      "[72, 58, 44]\n",
      "4 8\n",
      "[72, 58, 44, 30]\n",
      "5 8\n",
      "[58, 44, 30]\n",
      "22\n"
     ]
    }
   ],
   "source": [
    "N = int(input())\n",
    "data = list(map(int, input().split()))\n",
    "count = 2*N - 1\n",
    "for l in range(0, N+1):\n",
    "    for r in range(l+3, N+1):\n",
    "        flg = True\n",
    "        li = data[l:r]\n",
    "        diff = li[1] - li[0]\n",
    "        for i in range(len(li) - 1):\n",
    "            if (li[i+1] - li[i]) != diff:\n",
    "                flg = False\n",
    "                break\n",
    "        if flg == True:\n",
    "            print(l, r)\n",
    "            print(li)\n",
    "            count += 1\n",
    "print(count)"
   ]
  },
  {
   "cell_type": "code",
   "execution_count": 93,
   "id": "2eeeaea3-385c-4988-aa9d-b539a6fed9db",
   "metadata": {},
   "outputs": [
    {
     "name": "stdin",
     "output_type": "stream",
     "text": [
      " 8\n",
      " 87 42 64 86 72 58 44 30\n"
     ]
    },
    {
     "name": "stdout",
     "output_type": "stream",
     "text": [
      "87\n",
      "42\n",
      "64\n",
      "1\n",
      "86\n",
      "72\n",
      "1\n",
      "58\n",
      "1\n",
      "44\n",
      "1\n",
      "19\n"
     ]
    }
   ],
   "source": [
    "N = int(input())\n",
    "data = list(map(int, input().split()))\n",
    "count = 2*N - 1\n",
    "diff = []\n",
    "tmp = 0\n",
    "count_ = 0\n",
    "for i in range(N - 1):\n",
    "    #print(data[i])\n",
    "    if count_ == 0:\n",
    "        tmp = data[i+1] - data[i]\n",
    "    else:\n",
    "        if tmp == data[i+1] - data[i]:\n",
    "        count_ += 1\n",
    "    else:\n",
    "        print(count_)\n",
    "        count += count_\n",
    "        count_ = 0\n",
    "print(count)"
   ]
  },
  {
   "cell_type": "code",
   "execution_count": 3,
   "id": "c4949d00-d046-425c-bd15-ce93aac1cf1a",
   "metadata": {},
   "outputs": [
    {
     "name": "stdin",
     "output_type": "stream",
     "text": [
      " 8\n",
      " 87 42 64 86 72 58 44 30\n"
     ]
    },
    {
     "name": "stdout",
     "output_type": "stream",
     "text": [
      "22\n"
     ]
    }
   ],
   "source": [
    "N = int(input())\n",
    "data = list(map(int, input().split()))\n",
    "count = 2*N - 1\n",
    "count_ = 0\n",
    "for i in range(N - 2):\n",
    "    diff1 = data[i+1] - data[i]\n",
    "    diff2 = data[i+2] - data[i+1]\n",
    "    if diff1 == diff2:\n",
    "        count_ += 1\n",
    "        count += count_\n",
    "    else:\n",
    "        count_ = 0    \n",
    "print(count)"
   ]
  },
  {
   "cell_type": "code",
   "execution_count": 2,
   "id": "5aac02c0-f683-494d-85b7-6f9907aa180f",
   "metadata": {},
   "outputs": [
    {
     "data": {
      "text/plain": [
       "22"
      ]
     },
     "execution_count": 2,
     "metadata": {},
     "output_type": "execute_result"
    }
   ],
   "source": [
    "count"
   ]
  },
  {
   "cell_type": "code",
   "execution_count": 85,
   "id": "67aa1d6f-8c38-4b2d-ad0a-5abda9c700ce",
   "metadata": {},
   "outputs": [
    {
     "data": {
      "text/plain": [
       "[-45, 22, 22, -14, -14, -14, -14]"
      ]
     },
     "execution_count": 85,
     "metadata": {},
     "output_type": "execute_result"
    }
   ],
   "source": [
    "diff"
   ]
  },
  {
   "cell_type": "code",
   "execution_count": 81,
   "id": "70ad45f1-9876-4e10-94f0-ee25d404fd1a",
   "metadata": {},
   "outputs": [
    {
     "data": {
      "text/plain": [
       "8"
      ]
     },
     "execution_count": 81,
     "metadata": {},
     "output_type": "execute_result"
    }
   ],
   "source": [
    "N"
   ]
  },
  {
   "cell_type": "code",
   "execution_count": 82,
   "id": "49580e81-78e2-4dc4-b69c-2952543d7285",
   "metadata": {},
   "outputs": [
    {
     "ename": "IndexError",
     "evalue": "list index out of range",
     "output_type": "error",
     "traceback": [
      "\u001b[1;31m---------------------------------------------------------------------------\u001b[0m",
      "\u001b[1;31mIndexError\u001b[0m                                Traceback (most recent call last)",
      "Cell \u001b[1;32mIn[82], line 1\u001b[0m\n\u001b[1;32m----> 1\u001b[0m \u001b[43mdata\u001b[49m\u001b[43m[\u001b[49m\u001b[38;5;241;43m8\u001b[39;49m\u001b[43m]\u001b[49m\n",
      "\u001b[1;31mIndexError\u001b[0m: list index out of range"
     ]
    }
   ],
   "source": [
    "data[8]"
   ]
  },
  {
   "cell_type": "code",
   "execution_count": null,
   "id": "fc4f2e0a-02e9-47f8-a6a9-3b5128535c20",
   "metadata": {},
   "outputs": [],
   "source": []
  },
  {
   "cell_type": "markdown",
   "id": "1d078e3a-429c-40f9-9698-638446e24b4e",
   "metadata": {},
   "source": [
    "# D"
   ]
  },
  {
   "cell_type": "code",
   "execution_count": null,
   "id": "c3573d59-a0a8-44ab-a5f8-7fafc27f9fa7",
   "metadata": {},
   "outputs": [],
   "source": []
  },
  {
   "cell_type": "code",
   "execution_count": null,
   "id": "49cb4004-d38c-4d27-8fb9-55f07d4cfaa3",
   "metadata": {},
   "outputs": [],
   "source": []
  },
  {
   "cell_type": "code",
   "execution_count": null,
   "id": "e38672a1-5f16-4a1c-96f6-a5d10816f928",
   "metadata": {},
   "outputs": [],
   "source": []
  },
  {
   "cell_type": "code",
   "execution_count": null,
   "id": "240c34be-3217-47e6-862e-19a7d82acdfe",
   "metadata": {},
   "outputs": [],
   "source": []
  },
  {
   "cell_type": "code",
   "execution_count": null,
   "id": "1d6e1bc5-44b7-4615-b51a-4610945e0f38",
   "metadata": {},
   "outputs": [],
   "source": []
  },
  {
   "cell_type": "code",
   "execution_count": null,
   "id": "c2e5ee77-a209-43f9-b2bc-889a8cb23287",
   "metadata": {},
   "outputs": [],
   "source": []
  },
  {
   "cell_type": "code",
   "execution_count": null,
   "id": "51f0f394-dce3-46d4-b95e-067a85a69317",
   "metadata": {},
   "outputs": [],
   "source": []
  },
  {
   "cell_type": "code",
   "execution_count": null,
   "id": "f371e739-cbb1-4ba8-a142-dfdbad259d9c",
   "metadata": {},
   "outputs": [],
   "source": []
  },
  {
   "cell_type": "code",
   "execution_count": null,
   "id": "8889c1b0-4a8b-4cdf-bab8-a1e793c100f8",
   "metadata": {},
   "outputs": [],
   "source": []
  },
  {
   "cell_type": "code",
   "execution_count": null,
   "id": "9cd7ff58-e3bc-4d93-a751-ec16c6ae6346",
   "metadata": {},
   "outputs": [],
   "source": []
  },
  {
   "cell_type": "code",
   "execution_count": null,
   "id": "f73822c3-3c4d-47d4-939d-ea199a8e74dd",
   "metadata": {},
   "outputs": [],
   "source": []
  },
  {
   "cell_type": "code",
   "execution_count": null,
   "id": "cb255d8e-f17e-44f9-9779-0f5b0895b517",
   "metadata": {},
   "outputs": [],
   "source": []
  },
  {
   "cell_type": "code",
   "execution_count": null,
   "id": "c2c3da9f-3699-4913-af6a-10647d94fc13",
   "metadata": {},
   "outputs": [],
   "source": []
  },
  {
   "cell_type": "code",
   "execution_count": null,
   "id": "3090de7f-c5e3-47cf-98c2-7bfeda984564",
   "metadata": {},
   "outputs": [],
   "source": []
  },
  {
   "cell_type": "code",
   "execution_count": null,
   "id": "b57faceb-b790-459d-90e2-bdcc52679014",
   "metadata": {},
   "outputs": [],
   "source": []
  },
  {
   "cell_type": "code",
   "execution_count": null,
   "id": "46487d6f-8e6c-4533-b281-00c247dde020",
   "metadata": {},
   "outputs": [],
   "source": []
  },
  {
   "cell_type": "code",
   "execution_count": null,
   "id": "92f40112-973a-48e7-a5bc-9d297a0bf6b0",
   "metadata": {},
   "outputs": [],
   "source": []
  },
  {
   "cell_type": "code",
   "execution_count": null,
   "id": "d5faf825-fbe8-4483-8a38-7381b54d583f",
   "metadata": {},
   "outputs": [],
   "source": []
  },
  {
   "cell_type": "code",
   "execution_count": null,
   "id": "61763ebb-4d67-4361-ba16-51c4e6a4eed4",
   "metadata": {},
   "outputs": [],
   "source": []
  },
  {
   "cell_type": "code",
   "execution_count": null,
   "id": "8911b835-0936-4178-a20c-6a79cdb4586f",
   "metadata": {},
   "outputs": [],
   "source": []
  },
  {
   "cell_type": "code",
   "execution_count": null,
   "id": "6ba3de9f-4cc9-4bb2-bba4-5f7f43202c24",
   "metadata": {},
   "outputs": [],
   "source": []
  },
  {
   "cell_type": "code",
   "execution_count": null,
   "id": "949488b0-d759-4950-baa9-e2bf67308e8c",
   "metadata": {},
   "outputs": [],
   "source": []
  },
  {
   "cell_type": "code",
   "execution_count": null,
   "id": "80cccf85-16a3-4aff-a226-bd316d6a1fbe",
   "metadata": {},
   "outputs": [],
   "source": []
  },
  {
   "cell_type": "code",
   "execution_count": null,
   "id": "2cae66f5-c580-4ca8-ab72-7ae552a65799",
   "metadata": {},
   "outputs": [],
   "source": []
  },
  {
   "cell_type": "code",
   "execution_count": null,
   "id": "40253663-3a11-4fc0-a239-4db9b9c48942",
   "metadata": {},
   "outputs": [],
   "source": []
  },
  {
   "cell_type": "code",
   "execution_count": null,
   "id": "a839ef00-4b83-4609-aa92-4c6b2691c371",
   "metadata": {},
   "outputs": [],
   "source": []
  },
  {
   "cell_type": "code",
   "execution_count": null,
   "id": "c44f2083-fe4c-4e43-a526-ea34f64eb040",
   "metadata": {},
   "outputs": [],
   "source": []
  },
  {
   "cell_type": "code",
   "execution_count": null,
   "id": "05f708e4-9c0c-48ca-a89b-b94934126956",
   "metadata": {},
   "outputs": [],
   "source": []
  },
  {
   "cell_type": "code",
   "execution_count": null,
   "id": "624e31e6-64e4-4d6b-952a-b05175281814",
   "metadata": {},
   "outputs": [],
   "source": []
  },
  {
   "cell_type": "code",
   "execution_count": null,
   "id": "a003e301-2de7-4851-a365-6ed47e587fe8",
   "metadata": {},
   "outputs": [],
   "source": []
  },
  {
   "cell_type": "code",
   "execution_count": null,
   "id": "4abb0978-0d41-4890-8f2b-d7dce9d48e5a",
   "metadata": {},
   "outputs": [],
   "source": []
  },
  {
   "cell_type": "code",
   "execution_count": null,
   "id": "5ee5e061-a990-466b-a7a1-6ad01c41e9e6",
   "metadata": {},
   "outputs": [],
   "source": []
  },
  {
   "cell_type": "code",
   "execution_count": null,
   "id": "3e161d8c-3ad9-46ee-8701-3771bc5c4663",
   "metadata": {},
   "outputs": [],
   "source": []
  },
  {
   "cell_type": "code",
   "execution_count": null,
   "id": "67f774af-b9d8-4e01-8b74-a528143b18db",
   "metadata": {},
   "outputs": [],
   "source": []
  },
  {
   "cell_type": "code",
   "execution_count": null,
   "id": "05a933a8-add2-4903-818d-7bb1b4ce49b0",
   "metadata": {},
   "outputs": [],
   "source": []
  },
  {
   "cell_type": "code",
   "execution_count": null,
   "id": "ab0bc0f0-42aa-472d-a4bd-1a529c846c2a",
   "metadata": {},
   "outputs": [],
   "source": []
  },
  {
   "cell_type": "code",
   "execution_count": null,
   "id": "acfd8b30-71a3-4348-8cf7-874f14e34033",
   "metadata": {},
   "outputs": [],
   "source": []
  },
  {
   "cell_type": "code",
   "execution_count": null,
   "id": "3730ede8-c8f9-4a11-b2d3-32bef8049962",
   "metadata": {},
   "outputs": [],
   "source": []
  }
 ],
 "metadata": {
  "kernelspec": {
   "display_name": "Python 3 (ipykernel)",
   "language": "python",
   "name": "python3"
  },
  "language_info": {
   "codemirror_mode": {
    "name": "ipython",
    "version": 3
   },
   "file_extension": ".py",
   "mimetype": "text/x-python",
   "name": "python",
   "nbconvert_exporter": "python",
   "pygments_lexer": "ipython3",
   "version": "3.12.4"
  }
 },
 "nbformat": 4,
 "nbformat_minor": 5
}
