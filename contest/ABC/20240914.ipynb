{
 "cells": [
  {
   "cell_type": "markdown",
   "id": "1421f678-c83c-46f7-a214-067c69cd9c15",
   "metadata": {},
   "source": [
    "# A"
   ]
  },
  {
   "cell_type": "code",
   "execution_count": 4,
   "id": "78d42b71-f441-43b2-b5ca-2c19604bc124",
   "metadata": {},
   "outputs": [
    {
     "name": "stdin",
     "output_type": "stream",
     "text": [
      " < < >\n"
     ]
    },
    {
     "name": "stdout",
     "output_type": "stream",
     "text": [
      "C\n"
     ]
    }
   ],
   "source": [
    "AB, AC, BC = input().split()\n",
    "\n",
    "if (AB=='>' and AC=='<' and BC=='>') or (AB=='>' and AC=='<' and BC=='<') or (AB=='<' and AC=='>' and BC=='>'):\n",
    "    print('A')\n",
    "elif (AB=='>' and AC=='>' and BC=='<') or (AB=='<' and AC=='>' and BC=='<') or (AB=='<' and AC=='<' and BC=='>'):\n",
    "    print('C')\n",
    "else:\n",
    "    print('B')"
   ]
  },
  {
   "cell_type": "markdown",
   "id": "d1e143f1-6008-4f18-962a-ca925b698318",
   "metadata": {},
   "source": [
    "# B"
   ]
  },
  {
   "cell_type": "code",
   "execution_count": 16,
   "id": "b78f67df-34c6-4a62-945e-1fba0684b53e",
   "metadata": {},
   "outputs": [
    {
     "name": "stdin",
     "output_type": "stream",
     "text": [
      " 4 7\n",
      " 2 M\n"
     ]
    },
    {
     "name": "stdout",
     "output_type": "stream",
     "text": [
      "Yes\n"
     ]
    },
    {
     "name": "stdin",
     "output_type": "stream",
     "text": [
      " 3 M\n"
     ]
    },
    {
     "name": "stdout",
     "output_type": "stream",
     "text": [
      "Yes\n"
     ]
    },
    {
     "name": "stdin",
     "output_type": "stream",
     "text": [
      " 1 F\n"
     ]
    },
    {
     "name": "stdout",
     "output_type": "stream",
     "text": [
      "No\n"
     ]
    },
    {
     "name": "stdin",
     "output_type": "stream",
     "text": [
      " 4 F\n"
     ]
    },
    {
     "name": "stdout",
     "output_type": "stream",
     "text": [
      "No\n"
     ]
    },
    {
     "name": "stdin",
     "output_type": "stream",
     "text": [
      " 4 F\n"
     ]
    },
    {
     "name": "stdout",
     "output_type": "stream",
     "text": [
      "No\n"
     ]
    },
    {
     "name": "stdin",
     "output_type": "stream",
     "text": [
      " 1 F\n"
     ]
    },
    {
     "name": "stdout",
     "output_type": "stream",
     "text": [
      "No\n"
     ]
    },
    {
     "name": "stdin",
     "output_type": "stream",
     "text": [
      " 2 M\n"
     ]
    },
    {
     "name": "stdout",
     "output_type": "stream",
     "text": [
      "No\n"
     ]
    }
   ],
   "source": [
    "N, M = map(int, input().split())\n",
    "dic = dict()\n",
    "for i in range(N):\n",
    "    dic[i+1] = []\n",
    "for i in range(M):\n",
    "    data = list(input().split())\n",
    "    A, B = int(data[0]), str(data[1])\n",
    "    if B == 'M' and 'M' not in dic[A]:\n",
    "        print('Yes')\n",
    "    else:\n",
    "        print('No')\n",
    "    dic[A].append(B)"
   ]
  },
  {
   "cell_type": "code",
   "execution_count": 17,
   "id": "fa6eeb5a-b0ce-498b-ab4f-eaeb145311eb",
   "metadata": {},
   "outputs": [
    {
     "data": {
      "text/plain": [
       "{1: ['F', 'F'], 2: ['M', 'M'], 3: ['M'], 4: ['F', 'F']}"
      ]
     },
     "execution_count": 17,
     "metadata": {},
     "output_type": "execute_result"
    }
   ],
   "source": [
    "dic"
   ]
  },
  {
   "cell_type": "markdown",
   "id": "952647fb-c9b5-440c-8766-d78a177e1381",
   "metadata": {},
   "source": [
    "# C"
   ]
  },
  {
   "cell_type": "code",
   "execution_count": null,
   "id": "4859fb1d-1739-4621-a0ce-da6970226b94",
   "metadata": {},
   "outputs": [],
   "source": []
  },
  {
   "cell_type": "code",
   "execution_count": null,
   "id": "435001db-b36e-45a6-a706-58b11ed4351a",
   "metadata": {},
   "outputs": [],
   "source": []
  },
  {
   "cell_type": "code",
   "execution_count": null,
   "id": "3e8d429d-4753-477d-aebf-c69d9085d2cf",
   "metadata": {},
   "outputs": [],
   "source": []
  },
  {
   "cell_type": "code",
   "execution_count": null,
   "id": "1551a1ef-20e5-4cf8-81ff-fcb8766d8f6f",
   "metadata": {},
   "outputs": [],
   "source": []
  },
  {
   "cell_type": "code",
   "execution_count": null,
   "id": "e3811493-0a97-445a-a8e0-24cc3470f705",
   "metadata": {},
   "outputs": [],
   "source": []
  },
  {
   "cell_type": "code",
   "execution_count": null,
   "id": "6a63bdb2-3cd2-4973-af9b-3c0e5959f206",
   "metadata": {},
   "outputs": [],
   "source": []
  },
  {
   "cell_type": "code",
   "execution_count": null,
   "id": "6744a901-6990-416f-a102-23ffc1b58ea7",
   "metadata": {},
   "outputs": [],
   "source": []
  },
  {
   "cell_type": "code",
   "execution_count": null,
   "id": "b0a7f58e-5b4f-4006-9fa6-35c79bb4dc36",
   "metadata": {},
   "outputs": [],
   "source": []
  },
  {
   "cell_type": "code",
   "execution_count": null,
   "id": "1bd32f60-64fa-4ed2-83c6-5668c4a8e572",
   "metadata": {},
   "outputs": [],
   "source": []
  },
  {
   "cell_type": "code",
   "execution_count": null,
   "id": "0763bb41-68c5-42fc-ac89-9d40e9ca7d7b",
   "metadata": {},
   "outputs": [],
   "source": []
  },
  {
   "cell_type": "markdown",
   "id": "7a9afdf8-781b-4716-92f6-ce4063acab31",
   "metadata": {},
   "source": [
    "# D"
   ]
  },
  {
   "cell_type": "markdown",
   "id": "122bca02-5425-4421-abcc-237b9f71085c",
   "metadata": {},
   "source": [
    "## Naive : TLE"
   ]
  },
  {
   "cell_type": "code",
   "execution_count": 20,
   "id": "4bfa4a30-4984-446b-b316-3da67154e2da",
   "metadata": {},
   "outputs": [
    {
     "name": "stdin",
     "output_type": "stream",
     "text": [
      " 7\n",
      " -10 -5 -3 -1 0 1 4\n",
      " 2 5 6 5 2 1 7\n",
      " 8\n",
      " -7 7\n"
     ]
    },
    {
     "name": "stdout",
     "output_type": "stream",
     "text": [
      "26\n"
     ]
    },
    {
     "name": "stdin",
     "output_type": "stream",
     "text": [
      " -1 5\n"
     ]
    },
    {
     "name": "stdout",
     "output_type": "stream",
     "text": [
      "15\n"
     ]
    },
    {
     "name": "stdin",
     "output_type": "stream",
     "text": [
      " -10 -4\n"
     ]
    },
    {
     "name": "stdout",
     "output_type": "stream",
     "text": [
      "7\n"
     ]
    },
    {
     "name": "stdin",
     "output_type": "stream",
     "text": [
      " -8 10\n"
     ]
    },
    {
     "name": "stdout",
     "output_type": "stream",
     "text": [
      "26\n"
     ]
    },
    {
     "name": "stdin",
     "output_type": "stream",
     "text": [
      " -5 0\n"
     ]
    },
    {
     "name": "stdout",
     "output_type": "stream",
     "text": [
      "18\n"
     ]
    },
    {
     "name": "stdin",
     "output_type": "stream",
     "text": [
      " -10 5\n"
     ]
    },
    {
     "name": "stdout",
     "output_type": "stream",
     "text": [
      "28\n"
     ]
    },
    {
     "name": "stdin",
     "output_type": "stream",
     "text": [
      " -8 7\n"
     ]
    },
    {
     "name": "stdout",
     "output_type": "stream",
     "text": [
      "26\n"
     ]
    },
    {
     "name": "stdin",
     "output_type": "stream",
     "text": [
      " -8 3\n"
     ]
    },
    {
     "name": "stdout",
     "output_type": "stream",
     "text": [
      "19\n"
     ]
    }
   ],
   "source": [
    "N = int(input())\n",
    "X = list(map(int, input().split()))\n",
    "P = list(map(int, input().split()))\n",
    "\n",
    "dic = dict()\n",
    "for i in range(N):\n",
    "    dic[X[i]] = P[i]\n",
    "    \n",
    "Q = int(input())\n",
    "for i in range(Q):\n",
    "    L, R = map(int, input().split())\n",
    "    tmp = [x for x in X if x>=L and x<=R]\n",
    "    result = sum([dic[j] for j in tmp])\n",
    "    print(result)"
   ]
  },
  {
   "cell_type": "markdown",
   "id": "d13005df-787b-4690-a2f9-06cca7fbeb6b",
   "metadata": {},
   "source": [
    "## WA"
   ]
  },
  {
   "cell_type": "code",
   "execution_count": 53,
   "id": "b4d0566b-4ca2-4346-988b-3bd9c8b10068",
   "metadata": {},
   "outputs": [
    {
     "name": "stdin",
     "output_type": "stream",
     "text": [
      " 4\n",
      " 1 3 5 7\n",
      " 1 2 3 4\n",
      " 4\n",
      " 1 1\n"
     ]
    },
    {
     "name": "stdout",
     "output_type": "stream",
     "text": [
      "[1]\n",
      "1\n"
     ]
    },
    {
     "name": "stdin",
     "output_type": "stream",
     "text": [
      " 2 6\n"
     ]
    },
    {
     "name": "stdout",
     "output_type": "stream",
     "text": [
      "[3, 5]\n",
      "5\n"
     ]
    },
    {
     "name": "stdin",
     "output_type": "stream",
     "text": [
      " 0 10\n"
     ]
    },
    {
     "name": "stdout",
     "output_type": "stream",
     "text": [
      "[1, 3, 5, 7]\n",
      "10\n"
     ]
    },
    {
     "name": "stdin",
     "output_type": "stream",
     "text": [
      " 2 2\n"
     ]
    },
    {
     "name": "stdout",
     "output_type": "stream",
     "text": [
      "[]\n",
      "0\n"
     ]
    }
   ],
   "source": [
    "N = int(input())\n",
    "X = list(map(int, input().split()))\n",
    "P = list(map(int, input().split()))\n",
    "\n",
    "dic = dict(zip(X, P))\n",
    "    \n",
    "Q = int(input())\n",
    "for i in range(Q):\n",
    "    L, R = map(int, input().split())\n",
    "    \n",
    "    for i in range(N):\n",
    "        if X[i] >= L:\n",
    "            first = i\n",
    "            break\n",
    "    for j in range(N):\n",
    "        if X[N-1-j] <= R:\n",
    "            last = N-1-j + 1\n",
    "            break\n",
    "            \n",
    "    tmp = X[first:last]\n",
    "    result = sum([dic[j] for j in tmp])\n",
    "    #print(tmp)\n",
    "    print(result)"
   ]
  },
  {
   "cell_type": "code",
   "execution_count": 43,
   "id": "2bccea15-3cd0-4c36-a47a-a638db89801f",
   "metadata": {},
   "outputs": [
    {
     "data": {
      "text/plain": [
       "{1: 1, 3: 2, 5: 3, 7: 4}"
      ]
     },
     "execution_count": 43,
     "metadata": {},
     "output_type": "execute_result"
    }
   ],
   "source": [
    "dic"
   ]
  },
  {
   "cell_type": "code",
   "execution_count": 44,
   "id": "a5cdb261-7aac-4986-b5fd-55693bdc5ed6",
   "metadata": {},
   "outputs": [
    {
     "data": {
      "text/plain": [
       "[1, 3, 5, 7]"
      ]
     },
     "execution_count": 44,
     "metadata": {},
     "output_type": "execute_result"
    }
   ],
   "source": [
    "X"
   ]
  },
  {
   "cell_type": "code",
   "execution_count": 46,
   "id": "bae07858-9af1-41ce-9aa0-cb15bbe503c4",
   "metadata": {},
   "outputs": [
    {
     "data": {
      "text/plain": [
       "(0, 1)"
      ]
     },
     "execution_count": 46,
     "metadata": {},
     "output_type": "execute_result"
    }
   ],
   "source": [
    "first, last"
   ]
  },
  {
   "cell_type": "code",
   "execution_count": 52,
   "id": "c9631c47-0359-4bcd-ba06-d6c737d07cbe",
   "metadata": {},
   "outputs": [
    {
     "data": {
      "text/plain": [
       "[]"
      ]
     },
     "execution_count": 52,
     "metadata": {},
     "output_type": "execute_result"
    }
   ],
   "source": [
    "for i in range(N):\n",
    "    if X[i] >= 2:\n",
    "        first = i\n",
    "        break\n",
    "\n",
    "for j in range(N):\n",
    "    if X[N-1-j] <= 2:\n",
    "        last = N-1-j + 1\n",
    "        break\n",
    "\n",
    "X[first:last]"
   ]
  },
  {
   "cell_type": "code",
   "execution_count": 39,
   "id": "7fe617ed-c69e-4ea5-80f5-a00bcabfe31f",
   "metadata": {},
   "outputs": [
    {
     "data": {
      "text/plain": [
       "[-10, -5, -3, -1, 0]"
      ]
     },
     "execution_count": 39,
     "metadata": {},
     "output_type": "execute_result"
    }
   ],
   "source": [
    "X[i-1:last]"
   ]
  },
  {
   "cell_type": "code",
   "execution_count": 33,
   "id": "93e1f98e-b135-48d3-baa0-80dd8242e951",
   "metadata": {},
   "outputs": [
    {
     "name": "stdout",
     "output_type": "stream",
     "text": [
      "4\n",
      "3\n",
      "2\n",
      "1\n",
      "0\n"
     ]
    }
   ],
   "source": [
    "for x in range(5):\n",
    "    print(4-x)"
   ]
  },
  {
   "cell_type": "markdown",
   "id": "9e80d306-4375-4c51-a55d-6bf7a91bba70",
   "metadata": {},
   "source": [
    "## Retry"
   ]
  },
  {
   "cell_type": "code",
   "execution_count": 67,
   "id": "76c03856-2a47-4467-9855-4bb96da6ea9d",
   "metadata": {
    "scrolled": true
   },
   "outputs": [
    {
     "name": "stdin",
     "output_type": "stream",
     "text": [
      " 7\n",
      " -10 -5 -3 -1 0 1 4\n",
      " 2 5 6 5 2 1 7\n",
      " 8\n",
      " -7 7\n"
     ]
    },
    {
     "name": "stdout",
     "output_type": "stream",
     "text": [
      "26\n"
     ]
    },
    {
     "name": "stdin",
     "output_type": "stream",
     "text": [
      " -1 5\n"
     ]
    },
    {
     "name": "stdout",
     "output_type": "stream",
     "text": [
      "15\n"
     ]
    },
    {
     "name": "stdin",
     "output_type": "stream",
     "text": [
      " -10 -4\n"
     ]
    },
    {
     "name": "stdout",
     "output_type": "stream",
     "text": [
      "7\n"
     ]
    },
    {
     "name": "stdin",
     "output_type": "stream",
     "text": [
      " -8 10\n"
     ]
    },
    {
     "name": "stdout",
     "output_type": "stream",
     "text": [
      "26\n"
     ]
    },
    {
     "name": "stdin",
     "output_type": "stream",
     "text": [
      " -5 0\n"
     ]
    },
    {
     "name": "stdout",
     "output_type": "stream",
     "text": [
      "18\n"
     ]
    },
    {
     "name": "stdin",
     "output_type": "stream",
     "text": [
      " -10 5\n"
     ]
    },
    {
     "name": "stdout",
     "output_type": "stream",
     "text": [
      "28\n"
     ]
    },
    {
     "name": "stdin",
     "output_type": "stream",
     "text": [
      " -8 7\n"
     ]
    },
    {
     "name": "stdout",
     "output_type": "stream",
     "text": [
      "26\n"
     ]
    },
    {
     "name": "stdin",
     "output_type": "stream",
     "text": [
      " -8 -3\n"
     ]
    },
    {
     "name": "stdout",
     "output_type": "stream",
     "text": [
      "11\n"
     ]
    }
   ],
   "source": [
    "N = int(input())\n",
    "X = list(map(int, input().split()))\n",
    "P = list(map(int, input().split()))\n",
    "\n",
    "Q = int(input())\n",
    "for i in range(Q):\n",
    "    L, R = map(int, input().split())\n",
    "    \n",
    "    for i in range(N):\n",
    "        if X[i] >= L:\n",
    "            first = i\n",
    "            break\n",
    "    for j in range(N):\n",
    "        if X[N-1-j] <= R:\n",
    "            last = N-1-j + 1\n",
    "            break\n",
    "    \n",
    "    result = sum(P[first:last])\n",
    "    print(result)"
   ]
  },
  {
   "cell_type": "code",
   "execution_count": 62,
   "id": "aa5e3cce-aad7-4c2f-a9e5-7b191b29add8",
   "metadata": {},
   "outputs": [
    {
     "data": {
      "text/plain": [
       "{1: 1, 3: 2, 5: 3, 7: 4}"
      ]
     },
     "execution_count": 62,
     "metadata": {},
     "output_type": "execute_result"
    }
   ],
   "source": [
    "dic"
   ]
  },
  {
   "cell_type": "code",
   "execution_count": 61,
   "id": "7bb003a9-1dcd-4ce6-b161-9cf79bfc5640",
   "metadata": {},
   "outputs": [
    {
     "data": {
      "text/plain": [
       "([1, 3, 5, 7], [1, 2, 3, 4])"
      ]
     },
     "execution_count": 61,
     "metadata": {},
     "output_type": "execute_result"
    }
   ],
   "source": [
    "X, P"
   ]
  },
  {
   "cell_type": "code",
   "execution_count": 63,
   "id": "c6d13492-8442-4545-b9b3-7f3f1909ce40",
   "metadata": {},
   "outputs": [
    {
     "data": {
      "text/plain": [
       "[]"
      ]
     },
     "execution_count": 63,
     "metadata": {},
     "output_type": "execute_result"
    }
   ],
   "source": [
    "tmp"
   ]
  },
  {
   "cell_type": "code",
   "execution_count": 65,
   "id": "afd16b4a-ac71-474c-a30a-926fb9efb2a9",
   "metadata": {},
   "outputs": [
    {
     "data": {
      "text/plain": [
       "[]"
      ]
     },
     "execution_count": 65,
     "metadata": {},
     "output_type": "execute_result"
    }
   ],
   "source": [
    "P[first:last]"
   ]
  },
  {
   "cell_type": "code",
   "execution_count": null,
   "id": "a2d8f270-6020-468c-a271-89726575bfb1",
   "metadata": {},
   "outputs": [],
   "source": []
  },
  {
   "cell_type": "code",
   "execution_count": 67,
   "id": "ac74aed5-6ecf-4624-a99c-2f06ef843237",
   "metadata": {
    "scrolled": true
   },
   "outputs": [
    {
     "name": "stdin",
     "output_type": "stream",
     "text": [
      " 7\n",
      " -10 -5 -3 -1 0 1 4\n",
      " 2 5 6 5 2 1 7\n",
      " 8\n",
      " -7 7\n"
     ]
    },
    {
     "name": "stdout",
     "output_type": "stream",
     "text": [
      "26\n"
     ]
    },
    {
     "name": "stdin",
     "output_type": "stream",
     "text": [
      " -1 5\n"
     ]
    },
    {
     "name": "stdout",
     "output_type": "stream",
     "text": [
      "15\n"
     ]
    },
    {
     "name": "stdin",
     "output_type": "stream",
     "text": [
      " -10 -4\n"
     ]
    },
    {
     "name": "stdout",
     "output_type": "stream",
     "text": [
      "7\n"
     ]
    },
    {
     "name": "stdin",
     "output_type": "stream",
     "text": [
      " -8 10\n"
     ]
    },
    {
     "name": "stdout",
     "output_type": "stream",
     "text": [
      "26\n"
     ]
    },
    {
     "name": "stdin",
     "output_type": "stream",
     "text": [
      " -5 0\n"
     ]
    },
    {
     "name": "stdout",
     "output_type": "stream",
     "text": [
      "18\n"
     ]
    },
    {
     "name": "stdin",
     "output_type": "stream",
     "text": [
      " -10 5\n"
     ]
    },
    {
     "name": "stdout",
     "output_type": "stream",
     "text": [
      "28\n"
     ]
    },
    {
     "name": "stdin",
     "output_type": "stream",
     "text": [
      " -8 7\n"
     ]
    },
    {
     "name": "stdout",
     "output_type": "stream",
     "text": [
      "26\n"
     ]
    },
    {
     "name": "stdin",
     "output_type": "stream",
     "text": [
      " -8 -3\n"
     ]
    },
    {
     "name": "stdout",
     "output_type": "stream",
     "text": [
      "11\n"
     ]
    }
   ],
   "source": [
    "N = int(input())\n",
    "X = list(map(int, input().split()))\n",
    "P = list(map(int, input().split()))\n",
    "\n",
    "Q = int(input())\n",
    "for i in range(Q):\n",
    "    L, R = map(int, input().split())\n",
    "    \n",
    "    for i in range(N):\n",
    "        if X[i] >= L:\n",
    "            first = i\n",
    "            break\n",
    "    for j in range(N):\n",
    "        if X[N-1-j] <= R:\n",
    "            last = N-1-j + 1\n",
    "            break\n",
    "    if first <= last:\n",
    "        result = sum(P[first:last])\n",
    "    else:\n",
    "        result = 0\n",
    "    print(result)"
   ]
  },
  {
   "cell_type": "code",
   "execution_count": null,
   "id": "73b051da-62f9-490b-a359-1c65686b2e1e",
   "metadata": {},
   "outputs": [],
   "source": []
  },
  {
   "cell_type": "markdown",
   "id": "dc06aea5-402c-45de-b73f-ee5b24f51fc7",
   "metadata": {},
   "source": [
    "## GPT"
   ]
  },
  {
   "cell_type": "code",
   "execution_count": 68,
   "id": "54130232-324b-4a84-927d-f484f8f39c15",
   "metadata": {},
   "outputs": [
    {
     "name": "stdin",
     "output_type": "stream",
     "text": [
      " 4\n",
      " 1 3 5 7\n",
      " 1 2 3 4\n",
      " 4\n",
      " 1 1\n"
     ]
    },
    {
     "name": "stdout",
     "output_type": "stream",
     "text": [
      "1\n"
     ]
    },
    {
     "name": "stdin",
     "output_type": "stream",
     "text": [
      " 52 6\n"
     ]
    },
    {
     "name": "stdout",
     "output_type": "stream",
     "text": [
      "0\n"
     ]
    },
    {
     "name": "stdin",
     "output_type": "stream",
     "text": [
      " 0 10\n"
     ]
    },
    {
     "name": "stdout",
     "output_type": "stream",
     "text": [
      "10\n"
     ]
    },
    {
     "name": "stdin",
     "output_type": "stream",
     "text": [
      " 2 2\n"
     ]
    },
    {
     "name": "stdout",
     "output_type": "stream",
     "text": [
      "0\n"
     ]
    }
   ],
   "source": [
    "import bisect\n",
    "\n",
    "N = int(input())\n",
    "X = list(map(int, input().split()))\n",
    "P = list(map(int, input().split()))\n",
    "\n",
    "# 累積和を計算\n",
    "prefix_sum = [0] * (N + 1)\n",
    "for i in range(N):\n",
    "    prefix_sum[i + 1] = prefix_sum[i] + P[i]\n",
    "\n",
    "Q = int(input())\n",
    "for _ in range(Q):\n",
    "    L, R = map(int, input().split())\n",
    "    \n",
    "    # L以上の最初のインデックスを見つける\n",
    "    left_index = bisect.bisect_left(X, L)\n",
    "    \n",
    "    # R以下の最後のインデックスを見つける\n",
    "    right_index = bisect.bisect_right(X, R) - 1\n",
    "    \n",
    "    if left_index <= right_index:\n",
    "        result = prefix_sum[right_index + 1] - prefix_sum[left_index]\n",
    "    else:\n",
    "        result = 0\n",
    "    \n",
    "    print(result)\n"
   ]
  },
  {
   "cell_type": "code",
   "execution_count": 70,
   "id": "96238403-272a-4fea-ae6c-6ab1775d1be0",
   "metadata": {},
   "outputs": [
    {
     "data": {
      "text/plain": [
       "[1, 3, 5, 7]"
      ]
     },
     "execution_count": 70,
     "metadata": {},
     "output_type": "execute_result"
    }
   ],
   "source": [
    "X"
   ]
  },
  {
   "cell_type": "code",
   "execution_count": 69,
   "id": "6fd99787-53d8-4389-9698-6fb587110ff0",
   "metadata": {},
   "outputs": [
    {
     "data": {
      "text/plain": [
       "[0, 1, 3, 6, 10]"
      ]
     },
     "execution_count": 69,
     "metadata": {},
     "output_type": "execute_result"
    }
   ],
   "source": [
    "prefix_sum"
   ]
  },
  {
   "cell_type": "code",
   "execution_count": 72,
   "id": "e7eddc70-46ce-4092-8678-d07676cb0283",
   "metadata": {},
   "outputs": [
    {
     "data": {
      "text/plain": [
       "[1, 2, 3, 4]"
      ]
     },
     "execution_count": 72,
     "metadata": {},
     "output_type": "execute_result"
    }
   ],
   "source": [
    "P"
   ]
  },
  {
   "cell_type": "code",
   "execution_count": 71,
   "id": "3bf8690d-d54f-4817-957f-b911b240edcb",
   "metadata": {},
   "outputs": [
    {
     "name": "stdout",
     "output_type": "stream",
     "text": [
      "[0, 0, 0, 0, 0] 0 1\n",
      "[0, 1, 0, 0, 0] 1 2\n",
      "[0, 1, 3, 0, 0] 3 3\n",
      "[0, 1, 3, 6, 0] 6 4\n"
     ]
    }
   ],
   "source": [
    "prefix_sum = [0] * (N + 1)\n",
    "for i in range(N):\n",
    "    print(prefix_sum, prefix_sum[i], P[i])\n",
    "    prefix_sum[i + 1] = prefix_sum[i] + P[i]"
   ]
  },
  {
   "cell_type": "code",
   "execution_count": null,
   "id": "280ff0cc-5eeb-42de-8778-a3af4b909e2d",
   "metadata": {},
   "outputs": [],
   "source": []
  },
  {
   "cell_type": "code",
   "execution_count": null,
   "id": "91a75064-0077-4d92-9bc5-f1a5b79c948e",
   "metadata": {},
   "outputs": [],
   "source": []
  },
  {
   "cell_type": "code",
   "execution_count": null,
   "id": "92004da2-b8dc-458e-847c-83e107c4bd1e",
   "metadata": {},
   "outputs": [],
   "source": []
  },
  {
   "cell_type": "code",
   "execution_count": null,
   "id": "9c95fcc1-a5e1-490d-ad58-d19f81a2d2ab",
   "metadata": {},
   "outputs": [],
   "source": []
  },
  {
   "cell_type": "code",
   "execution_count": null,
   "id": "9c0eb647-475d-4546-ae09-f550b3ece8eb",
   "metadata": {},
   "outputs": [],
   "source": []
  },
  {
   "cell_type": "code",
   "execution_count": null,
   "id": "4c84457b-e5d2-4aac-b0b9-6cfc061a809c",
   "metadata": {},
   "outputs": [],
   "source": []
  },
  {
   "cell_type": "code",
   "execution_count": null,
   "id": "b7ddbf03-33ec-47ea-9880-3ba76bee562b",
   "metadata": {},
   "outputs": [],
   "source": []
  },
  {
   "cell_type": "code",
   "execution_count": null,
   "id": "8a45df03-09ab-467e-b0f7-87ebc2620561",
   "metadata": {},
   "outputs": [],
   "source": []
  },
  {
   "cell_type": "code",
   "execution_count": null,
   "id": "9529e4b5-0975-4104-aa90-d2f1f9a4c879",
   "metadata": {},
   "outputs": [],
   "source": []
  },
  {
   "cell_type": "code",
   "execution_count": null,
   "id": "bc4fa1a1-d018-4a2c-bc2a-234530fb44df",
   "metadata": {},
   "outputs": [],
   "source": []
  },
  {
   "cell_type": "code",
   "execution_count": null,
   "id": "e745fc54-bdca-4c24-b681-a615d1709cca",
   "metadata": {},
   "outputs": [],
   "source": []
  },
  {
   "cell_type": "code",
   "execution_count": null,
   "id": "443a7b6b-de42-4d7d-a154-5400f5ea9e49",
   "metadata": {},
   "outputs": [],
   "source": []
  },
  {
   "cell_type": "code",
   "execution_count": null,
   "id": "27454120-ceb6-45ee-819f-20b7771991f2",
   "metadata": {},
   "outputs": [],
   "source": []
  },
  {
   "cell_type": "code",
   "execution_count": null,
   "id": "bac6131c-f2d5-476a-8e77-5f2b484bb5fa",
   "metadata": {},
   "outputs": [],
   "source": []
  }
 ],
 "metadata": {
  "kernelspec": {
   "display_name": "Python 3 (ipykernel)",
   "language": "python",
   "name": "python3"
  },
  "language_info": {
   "codemirror_mode": {
    "name": "ipython",
    "version": 3
   },
   "file_extension": ".py",
   "mimetype": "text/x-python",
   "name": "python",
   "nbconvert_exporter": "python",
   "pygments_lexer": "ipython3",
   "version": "3.12.4"
  }
 },
 "nbformat": 4,
 "nbformat_minor": 5
}
