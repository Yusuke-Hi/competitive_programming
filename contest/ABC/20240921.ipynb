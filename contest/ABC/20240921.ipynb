{
 "cells": [
  {
   "cell_type": "markdown",
   "id": "ad9a2952-17e2-489c-8e4f-987640697ff1",
   "metadata": {},
   "source": [
    "# A"
   ]
  },
  {
   "cell_type": "code",
   "execution_count": 3,
   "id": "0219a89e-f230-4de5-8a70-af5955148867",
   "metadata": {},
   "outputs": [
    {
     "name": "stdin",
     "output_type": "stream",
     "text": [
      " ...\n"
     ]
    },
    {
     "name": "stdout",
     "output_type": "stream",
     "text": [
      "\n"
     ]
    }
   ],
   "source": [
    "S = list(input())\n",
    "result = ''\n",
    "for i in range(len(S)):\n",
    "    if S[i] != '.':\n",
    "        result += S[i]\n",
    "print(result)"
   ]
  },
  {
   "cell_type": "markdown",
   "id": "d5e3b105-caf0-4973-8d15-d22a3382385d",
   "metadata": {},
   "source": [
    "# B"
   ]
  },
  {
   "cell_type": "code",
   "execution_count": 2,
   "id": "0cb42102-de17-446f-8d09-7985841d553f",
   "metadata": {},
   "outputs": [
    {
     "data": {
      "text/plain": [
       "[1, 3, 9, 27, 81, 243, 729, 2187, 6561, 19683]"
      ]
     },
     "execution_count": 2,
     "metadata": {},
     "output_type": "execute_result"
    }
   ],
   "source": [
    "li"
   ]
  },
  {
   "cell_type": "code",
   "execution_count": 79,
   "id": "19979177-0e60-40bf-aa87-d4cffa1af179",
   "metadata": {
    "scrolled": true
   },
   "outputs": [
    {
     "name": "stdin",
     "output_type": "stream",
     "text": [
      " 59048\n"
     ]
    },
    {
     "name": "stdout",
     "output_type": "stream",
     "text": [
      "20\n",
      "0 0 1 1 2 2 3 3 4 4 5 5 6 6 7 7 8 8 9 9\n"
     ]
    }
   ],
   "source": [
    "import copy\n",
    "M = int(input())\n",
    "li = [3**i for i in range(10)]\n",
    "while True:\n",
    "    M_ = copy.copy(M) # M_ = 6\n",
    "    A = []\n",
    "    N = 0\n",
    "    i = 1\n",
    "    while M_ > 0 and N <= 20: \n",
    "        if li[-i] <= M_:# i = 9\n",
    "            key = M_//li[-i]\n",
    "            M_ -= key*li[-i] #M_ = 3\n",
    "            for j in range(key):\n",
    "                A.append(10-i) # A = [1]\n",
    "                N += 1 # N = 1\n",
    "        else:\n",
    "            if i<10:\n",
    "                i += 1\n",
    "            else:\n",
    "                break\n",
    "    if M_==0 and N <= 20:\n",
    "        break\n",
    "A.reverse()\n",
    "print(N)\n",
    "print(*A)"
   ]
  },
  {
   "cell_type": "code",
   "execution_count": 74,
   "id": "33a2fba3-8ad1-48b9-b2a7-4675e8a54469",
   "metadata": {},
   "outputs": [
    {
     "data": {
      "text/plain": [
       "[0, 0, 1, 1, 2, 2, 3, 3, 4, 4, 5, 5, 6, 6, 7, 7, 8, 8, 9, 9]"
      ]
     },
     "execution_count": 74,
     "metadata": {},
     "output_type": "execute_result"
    }
   ],
   "source": [
    "A"
   ]
  },
  {
   "cell_type": "code",
   "execution_count": 69,
   "id": "2a71ab5b-2029-4180-a41b-00e7db2ba18d",
   "metadata": {},
   "outputs": [
    {
     "data": {
      "text/plain": [
       "(10, [0, 2, 2, 4], 4, 0)"
      ]
     },
     "execution_count": 69,
     "metadata": {},
     "output_type": "execute_result"
    }
   ],
   "source": [
    "i, A, N, M_"
   ]
  },
  {
   "cell_type": "code",
   "execution_count": null,
   "id": "fba27918-91f4-4775-8c96-4eb0c5e68283",
   "metadata": {},
   "outputs": [],
   "source": []
  },
  {
   "cell_type": "code",
   "execution_count": 40,
   "id": "8fdd9bb2-dd85-4100-b597-8dcb1803f927",
   "metadata": {},
   "outputs": [
    {
     "name": "stdout",
     "output_type": "stream",
     "text": [
      "9 19683\n",
      "8 6561\n",
      "7 2187\n",
      "6 729\n",
      "5 243\n",
      "4 81\n",
      "3 27\n",
      "2 9\n",
      "1 3\n",
      "0 1\n"
     ]
    }
   ],
   "source": [
    "li = [3**i for i in range(10)]\n",
    "for j in range(1, len(li)+1):\n",
    "    print(10-j, li[-j])"
   ]
  },
  {
   "cell_type": "code",
   "execution_count": 9,
   "id": "b9f3aee5-f1ff-4f95-96e8-b045b924c5aa",
   "metadata": {},
   "outputs": [
    {
     "name": "stdout",
     "output_type": "stream",
     "text": [
      "19683 6561 2187 729 243 81 27 9 3 1\n"
     ]
    }
   ],
   "source": [
    "print(*li)"
   ]
  },
  {
   "cell_type": "code",
   "execution_count": 62,
   "id": "333b7160-5513-4f9a-9243-8690a31a1d35",
   "metadata": {},
   "outputs": [],
   "source": [
    "A = [1, 2, 3]\n",
    "A.insert(100, 0)"
   ]
  },
  {
   "cell_type": "code",
   "execution_count": 64,
   "id": "24874eca-00d0-4559-99ad-3a27917b1378",
   "metadata": {},
   "outputs": [],
   "source": [
    "A.insert(0, 9)"
   ]
  },
  {
   "cell_type": "code",
   "execution_count": 65,
   "id": "a4ceffe3-6dea-42bc-827f-b70a97a37a7b",
   "metadata": {},
   "outputs": [
    {
     "data": {
      "text/plain": [
       "[9, 1, 2, 3, 0]"
      ]
     },
     "execution_count": 65,
     "metadata": {},
     "output_type": "execute_result"
    }
   ],
   "source": [
    "A"
   ]
  },
  {
   "cell_type": "code",
   "execution_count": 6,
   "id": "de261644-df74-44f8-b4f0-553428b89527",
   "metadata": {
    "scrolled": true
   },
   "outputs": [
    {
     "name": "stdin",
     "output_type": "stream",
     "text": [
      " 59048\n"
     ]
    },
    {
     "name": "stdout",
     "output_type": "stream",
     "text": [
      "20\n",
      "0 0 1 1 2 2 3 3 4 4 5 5 6 6 7 7 8 8 9 9\n"
     ]
    }
   ],
   "source": [
    "M = int(input())\n",
    "li = [3**i for i in range(10)]\n",
    "\n",
    "A = []\n",
    "N = 0\n",
    "i = 1\n",
    "while M > 0 and N <= 20: \n",
    "    if li[-i] <= M:# i = 9\n",
    "        key = M//li[-i]\n",
    "        M -= key*li[-i] #M_ = 3\n",
    "        for j in range(key):\n",
    "            A.append(10-i) # A = [1]\n",
    "            N += 1 # N = 1\n",
    "    else:\n",
    "        if i<10:\n",
    "            i += 1\n",
    "        else:\n",
    "            break\n",
    "A.reverse()\n",
    "print(N)\n",
    "print(*A)"
   ]
  },
  {
   "cell_type": "code",
   "execution_count": 17,
   "id": "24231091-c3e6-4b68-b156-288759d70df8",
   "metadata": {},
   "outputs": [
    {
     "name": "stdin",
     "output_type": "stream",
     "text": [
      " 100\n"
     ]
    },
    {
     "name": "stdout",
     "output_type": "stream",
     "text": [
      "0 [0] 33\n",
      "1 [0] 11\n",
      "2 [0, 2, 2] 3\n",
      "3 [0, 2, 2] 1\n",
      "4 [0, 2, 2, 4] 0\n",
      "5 [0, 2, 2, 4] 0\n",
      "6 [0, 2, 2, 4] 0\n",
      "7 [0, 2, 2, 4] 0\n",
      "8 [0, 2, 2, 4] 0\n",
      "9 [0, 2, 2, 4] 0\n",
      "10 [0, 2, 2, 4] 0\n",
      "4\n",
      "0 2 2 4\n"
     ]
    }
   ],
   "source": [
    "M = int(input())\n",
    "A = []\n",
    "for k in range(11):\n",
    "    A += [k] * (M % 3)\n",
    "    M =  M//3\n",
    "    #print(k, A, M)\n",
    "print(len(A))\n",
    "print(*A)"
   ]
  },
  {
   "cell_type": "code",
   "execution_count": 18,
   "id": "16536fea-0a8b-4136-82f1-3e1dc3ac03f6",
   "metadata": {},
   "outputs": [
    {
     "data": {
      "text/plain": [
       "(33, 11, 3)"
      ]
     },
     "execution_count": 18,
     "metadata": {},
     "output_type": "execute_result"
    }
   ],
   "source": [
    "100//3, 33//3, 11//3"
   ]
  },
  {
   "cell_type": "code",
   "execution_count": null,
   "id": "a35082d1-2830-4087-91fa-917d97709bac",
   "metadata": {},
   "outputs": [],
   "source": []
  },
  {
   "cell_type": "markdown",
   "id": "e4e9383e-fb98-44ad-8bfe-7a00933e87fd",
   "metadata": {},
   "source": [
    "# C"
   ]
  },
  {
   "cell_type": "code",
   "execution_count": 105,
   "id": "9d0b1ec9-1ccb-4705-b800-97e9555bf2a6",
   "metadata": {},
   "outputs": [
    {
     "name": "stdin",
     "output_type": "stream",
     "text": [
      " 7 4\n",
      " ABCDABC\n",
      " 4 B\n"
     ]
    },
    {
     "name": "stdout",
     "output_type": "stream",
     "text": [
      "ABCBABC\n",
      "2\n"
     ]
    },
    {
     "name": "stdin",
     "output_type": "stream",
     "text": [
      " 3 A\n"
     ]
    },
    {
     "name": "stdout",
     "output_type": "stream",
     "text": [
      "ABABABC\n",
      "1\n"
     ]
    },
    {
     "name": "stdin",
     "output_type": "stream",
     "text": [
      " 5 C\n"
     ]
    },
    {
     "name": "stdout",
     "output_type": "stream",
     "text": [
      "ABABCBC\n",
      "1\n"
     ]
    },
    {
     "name": "stdin",
     "output_type": "stream",
     "text": [
      " 4 G\n"
     ]
    },
    {
     "name": "stdout",
     "output_type": "stream",
     "text": [
      "ABAGCBC\n",
      "0\n"
     ]
    }
   ],
   "source": [
    "N, Q = map(int, input().split())\n",
    "S = input()\n",
    "key = []\n",
    "for i in range(Q):\n",
    "    data = list(input().split())\n",
    "    X = int(data[0])\n",
    "    C = str(data[1])\n",
    "    S = S[:X-1] + C + S[X:]\n",
    "    base = 0\n",
    "    #print(S)\n",
    "    for j in range(len(S)-2):\n",
    "        if S[j:j+3]=='ABC':\n",
    "            base += 1\n",
    "    print(base)"
   ]
  },
  {
   "cell_type": "code",
   "execution_count": 104,
   "id": "eb7db848-7f02-4bb2-9b37-425f4a04666d",
   "metadata": {},
   "outputs": [
    {
     "name": "stdin",
     "output_type": "stream",
     "text": [
      " 4 B\n"
     ]
    },
    {
     "data": {
      "text/plain": [
       "(4, 'B')"
      ]
     },
     "execution_count": 104,
     "metadata": {},
     "output_type": "execute_result"
    }
   ],
   "source": [
    "data = list(input().split())\n",
    "int(data[0]), data[1]"
   ]
  },
  {
   "cell_type": "code",
   "execution_count": 94,
   "id": "bac9d19e-76e1-425f-89e0-5ca000efd317",
   "metadata": {},
   "outputs": [
    {
     "data": {
      "text/plain": [
       "'ABCDABC'"
      ]
     },
     "execution_count": 94,
     "metadata": {},
     "output_type": "execute_result"
    }
   ],
   "source": [
    "S"
   ]
  },
  {
   "cell_type": "code",
   "execution_count": 95,
   "id": "9d6de82b-7f11-4233-ac80-5bed657d016a",
   "metadata": {},
   "outputs": [
    {
     "data": {
      "text/plain": [
       "'ABCDXBC'"
      ]
     },
     "execution_count": 95,
     "metadata": {},
     "output_type": "execute_result"
    }
   ],
   "source": [
    "S = S[:5-1] + 'X' + S[5:]\n",
    "S"
   ]
  },
  {
   "cell_type": "code",
   "execution_count": 106,
   "id": "422d6a37-e4b2-4102-8183-77cd3c0749be",
   "metadata": {},
   "outputs": [
    {
     "name": "stdout",
     "output_type": "stream",
     "text": [
      "ABC\n",
      "BCD\n",
      "CDA\n",
      "DAB\n",
      "ABC\n",
      "[[0, 2], [4, 6]]\n"
     ]
    }
   ],
   "source": [
    "S = 'ABCDABC'\n",
    "key = []\n",
    "for i in range(len(S)-2):\n",
    "    print(S[i:i+3])\n",
    "    if S[i:i+3]=='ABC':\n",
    "        key.append([i, i+2])\n",
    "print(key)"
   ]
  },
  {
   "cell_type": "code",
   "execution_count": 110,
   "id": "ff6414d5-8f31-406b-bc16-d44304d47569",
   "metadata": {},
   "outputs": [
    {
     "data": {
      "text/plain": [
       "('ABCDABC', 'B')"
      ]
     },
     "execution_count": 110,
     "metadata": {},
     "output_type": "execute_result"
    }
   ],
   "source": [
    "i = 1\n",
    "S, S[i]"
   ]
  },
  {
   "cell_type": "code",
   "execution_count": 111,
   "id": "96712f58-b878-458e-b06b-0c4327b535f7",
   "metadata": {},
   "outputs": [],
   "source": [
    "C = 'B'\n",
    "for li in key:\n",
    "    if i>li[0] and i<li[1] and S[i] != C:\n",
    "        print('ok')"
   ]
  },
  {
   "cell_type": "code",
   "execution_count": null,
   "id": "27dc98eb-c0cf-43df-aaaf-5a559645692e",
   "metadata": {},
   "outputs": [],
   "source": []
  },
  {
   "cell_type": "code",
   "execution_count": 119,
   "id": "e329c767-ec9b-4e70-b72f-c23d8af05be3",
   "metadata": {},
   "outputs": [
    {
     "data": {
      "text/plain": [
       "[[0, 3], [4, 7]]"
      ]
     },
     "execution_count": 119,
     "metadata": {},
     "output_type": "execute_result"
    }
   ],
   "source": [
    "\n",
    "key"
   ]
  },
  {
   "cell_type": "code",
   "execution_count": null,
   "id": "9eade621-c75b-4104-b639-f0c904eae0a6",
   "metadata": {},
   "outputs": [
    {
     "name": "stdin",
     "output_type": "stream",
     "text": [
      " 7 4\n",
      " ABCDABC\n",
      " 4 B\n"
     ]
    },
    {
     "name": "stdout",
     "output_type": "stream",
     "text": [
      "-1\n"
     ]
    }
   ],
   "source": [
    "import copy\n",
    "N, Q = map(int, input().split())\n",
    "S = input()\n",
    "base = 0\n",
    "for i in range(N-2):\n",
    "    if S[i:i+3]=='ABC':\n",
    "        base += 1\n",
    "\n",
    "def check(S, S_):\n",
    "    if S == S_:\n",
    "        return 0\n",
    "    else:\n",
    "        if S == 'ABC' and S_ != 'ABC':\n",
    "            return 1\n",
    "        else:\n",
    "            return -1\n",
    "    \n",
    "for i in range(Q):\n",
    "    data = list(input().split())\n",
    "    X = int(data[0])\n",
    "    C = str(data[1])\n",
    "    S_ = S[:X-1] + C + S[X:]\n",
    "    if X==0:\n",
    "        base = base + check(S[0:2], S_[0:2])\n",
    "    elif X==1:\n",
    "        base = base + check(S[0:2], S_[0:2])\n",
    "        base = base + check(S[1:3], S_[1:3])\n",
    "    else:\n",
    "        base = base + check(S[X-3:X], S_[X-3:X])\n",
    "        base = base + check(S[X-2:X+1], S_[X-2:X+1])\n",
    "        base = base + check(S[X-1:X+2], S_[X-1:X+2])\n",
    "\n",
    "    S = S_\n",
    "    print(base)"
   ]
  },
  {
   "cell_type": "code",
   "execution_count": 74,
   "id": "6d5cb04e-b697-4067-8727-295a043be3d3",
   "metadata": {},
   "outputs": [
    {
     "data": {
      "text/plain": [
       "('ABCDABC', 'ABCBABC')"
      ]
     },
     "execution_count": 74,
     "metadata": {},
     "output_type": "execute_result"
    }
   ],
   "source": [
    "S, S_"
   ]
  },
  {
   "cell_type": "code",
   "execution_count": 73,
   "id": "82d8a069-49ef-444c-9bfb-8dfc8b4a3085",
   "metadata": {},
   "outputs": [
    {
     "data": {
      "text/plain": [
       "('BCD', 'BCB')"
      ]
     },
     "execution_count": 73,
     "metadata": {},
     "output_type": "execute_result"
    }
   ],
   "source": [
    "S[X-3:X], S_[X-3:X]"
   ]
  },
  {
   "cell_type": "code",
   "execution_count": 75,
   "id": "7f14b257-f02f-4dbe-92c4-9de4bd902e18",
   "metadata": {},
   "outputs": [],
   "source": [
    "check(S[X-3:X], S_[X-3:X])"
   ]
  },
  {
   "cell_type": "code",
   "execution_count": 76,
   "id": "a7a08786-8d1e-485b-9aef-ea7bb7291413",
   "metadata": {},
   "outputs": [
    {
     "data": {
      "text/plain": [
       "2"
      ]
     },
     "execution_count": 76,
     "metadata": {},
     "output_type": "execute_result"
    }
   ],
   "source": []
  },
  {
   "cell_type": "code",
   "execution_count": null,
   "id": "717c79ce-a480-47f8-8ad2-f65b4b9cf90a",
   "metadata": {},
   "outputs": [],
   "source": []
  },
  {
   "cell_type": "code",
   "execution_count": null,
   "id": "196ae159-c2e8-4a2c-85e8-a296b93b3f25",
   "metadata": {},
   "outputs": [],
   "source": []
  },
  {
   "cell_type": "code",
   "execution_count": null,
   "id": "64153913-0d56-424d-9f52-d34407233e39",
   "metadata": {},
   "outputs": [],
   "source": []
  },
  {
   "cell_type": "code",
   "execution_count": null,
   "id": "2a2da8be-b6c6-4e4f-8e57-6e692fda520d",
   "metadata": {},
   "outputs": [],
   "source": []
  },
  {
   "cell_type": "code",
   "execution_count": null,
   "id": "eb036b0f-0d4f-4f05-8260-b6af010ab5ce",
   "metadata": {},
   "outputs": [],
   "source": []
  },
  {
   "cell_type": "code",
   "execution_count": null,
   "id": "a4d0e34d-8b75-443b-9404-18cb8c55851c",
   "metadata": {},
   "outputs": [],
   "source": []
  },
  {
   "cell_type": "code",
   "execution_count": null,
   "id": "430b9f1b-a2da-4898-8f1e-e9b92a4dcc39",
   "metadata": {},
   "outputs": [],
   "source": []
  },
  {
   "cell_type": "code",
   "execution_count": null,
   "id": "ad0b65b9-9875-4760-967f-e5f3cdb2b233",
   "metadata": {},
   "outputs": [],
   "source": []
  },
  {
   "cell_type": "code",
   "execution_count": null,
   "id": "8ef4d987-b92c-49f7-b5fd-ffbb21d5ca6b",
   "metadata": {},
   "outputs": [],
   "source": []
  },
  {
   "cell_type": "code",
   "execution_count": null,
   "id": "eec0f93a-af43-4b7e-a9df-980291b77317",
   "metadata": {},
   "outputs": [],
   "source": []
  },
  {
   "cell_type": "code",
   "execution_count": null,
   "id": "051b9e49-8e35-4111-adcd-5d78cd4c549c",
   "metadata": {},
   "outputs": [],
   "source": []
  },
  {
   "cell_type": "code",
   "execution_count": null,
   "id": "f3b08a0e-98b0-4a9a-8617-0d92657175b2",
   "metadata": {},
   "outputs": [],
   "source": []
  },
  {
   "cell_type": "code",
   "execution_count": null,
   "id": "e984b6d1-0650-4d56-9840-d8bb3802d86a",
   "metadata": {},
   "outputs": [],
   "source": []
  },
  {
   "cell_type": "code",
   "execution_count": null,
   "id": "31776631-ac7c-4883-838e-3ad064fddb5d",
   "metadata": {},
   "outputs": [],
   "source": []
  },
  {
   "cell_type": "code",
   "execution_count": null,
   "id": "5787b82e-583f-4265-bca0-40cf86495cb8",
   "metadata": {},
   "outputs": [],
   "source": []
  },
  {
   "cell_type": "code",
   "execution_count": null,
   "id": "5af0c09b-780d-451a-a4a1-826e91000ba1",
   "metadata": {},
   "outputs": [],
   "source": []
  },
  {
   "cell_type": "code",
   "execution_count": null,
   "id": "42c328e9-95e9-47a9-8a7f-ee756167d63a",
   "metadata": {},
   "outputs": [],
   "source": []
  }
 ],
 "metadata": {
  "kernelspec": {
   "display_name": "Python 3 (ipykernel)",
   "language": "python",
   "name": "python3"
  },
  "language_info": {
   "codemirror_mode": {
    "name": "ipython",
    "version": 3
   },
   "file_extension": ".py",
   "mimetype": "text/x-python",
   "name": "python",
   "nbconvert_exporter": "python",
   "pygments_lexer": "ipython3",
   "version": "3.12.4"
  }
 },
 "nbformat": 4,
 "nbformat_minor": 5
}
