{
 "cells": [
  {
   "cell_type": "markdown",
   "id": "dd5f4f33-a629-4378-a014-2868a54fc480",
   "metadata": {},
   "source": [
    "# PracticeA - Welcome to AtCoder"
   ]
  },
  {
   "cell_type": "code",
   "execution_count": 1,
   "id": "b25ae198-ffdb-4cf4-88d7-f6a5433ad66b",
   "metadata": {},
   "outputs": [
    {
     "name": "stdin",
     "output_type": "stream",
     "text": [
      " 1\n",
      " 2 3\n",
      " test\n"
     ]
    },
    {
     "name": "stdout",
     "output_type": "stream",
     "text": [
      "6 test\n"
     ]
    }
   ],
   "source": [
    "a = int(input())\n",
    "b, c = map(int, input().split())\n",
    "s = input()\n",
    "print(a+b+c, s)"
   ]
  },
  {
   "cell_type": "markdown",
   "id": "f6434d17-a4da-46ec-a8f3-123d9358d701",
   "metadata": {},
   "source": [
    "# ABC086A - Product"
   ]
  },
  {
   "cell_type": "code",
   "execution_count": 3,
   "id": "105bc66a-d5d4-47f5-a468-753d2f40e219",
   "metadata": {},
   "outputs": [
    {
     "name": "stdin",
     "output_type": "stream",
     "text": [
      " 1 21\n"
     ]
    },
    {
     "name": "stdout",
     "output_type": "stream",
     "text": [
      "Odd\n"
     ]
    }
   ],
   "source": [
    "a, b = map(int, input().split())\n",
    "if (a*b)%2 == 1:\n",
    "    print('Odd')\n",
    "else:\n",
    "    print('Even')"
   ]
  },
  {
   "cell_type": "markdown",
   "id": "1d2edf6b-cc16-4dd3-9047-7f34b39697c9",
   "metadata": {},
   "source": [
    "# ABC081A - Placing Marbles"
   ]
  },
  {
   "cell_type": "code",
   "execution_count": 5,
   "id": "86ed709e-03dc-4a34-86d5-a98575aa0892",
   "metadata": {},
   "outputs": [
    {
     "name": "stdin",
     "output_type": "stream",
     "text": [
      " 000\n"
     ]
    },
    {
     "name": "stdout",
     "output_type": "stream",
     "text": [
      "0\n"
     ]
    }
   ],
   "source": [
    "data = input()\n",
    "s1 = int(data[0])\n",
    "s2 = int(data[1])\n",
    "s3 = int(data[2])\n",
    "print(s1+s2+s3)"
   ]
  },
  {
   "cell_type": "markdown",
   "id": "b65d2a43-cc9d-419f-86a7-a6a664d8b8e3",
   "metadata": {},
   "source": [
    "# ABC081B - Shift only"
   ]
  },
  {
   "cell_type": "code",
   "execution_count": 13,
   "id": "20119520-d280-424f-8699-fbb22b5d8937",
   "metadata": {},
   "outputs": [
    {
     "name": "stdin",
     "output_type": "stream",
     "text": [
      " 6\n",
      " 382253568 723152896 37802240 379425024 404894720 471526144\n"
     ]
    },
    {
     "name": "stdout",
     "output_type": "stream",
     "text": [
      "8\n"
     ]
    }
   ],
   "source": [
    "# TLE\n",
    "N = int(input())\n",
    "data = list(map(int, input().split()))\n",
    "count = 0\n",
    "while True:\n",
    "    if sum(data)%2 == 0:\n",
    "        for i in range(N):\n",
    "            if data[i]%2 == 0:\n",
    "                data[i] /= 2\n",
    "                if i == N-1:\n",
    "                    count +=1\n",
    "            else:\n",
    "                break\n",
    "    else:\n",
    "        break\n",
    "print(count)"
   ]
  },
  {
   "cell_type": "code",
   "execution_count": null,
   "id": "c2c33a1b-9650-4440-a3a8-804ccf495bec",
   "metadata": {},
   "outputs": [],
   "source": []
  },
  {
   "cell_type": "code",
   "execution_count": 31,
   "id": "991114a7-f84c-46d8-a569-96fbd0af1fa4",
   "metadata": {},
   "outputs": [
    {
     "name": "stdin",
     "output_type": "stream",
     "text": [
      " 6\n",
      " 382253568 723152896 37802240 379425024 404894720 471526144\n"
     ]
    },
    {
     "name": "stdout",
     "output_type": "stream",
     "text": [
      "8\n"
     ]
    }
   ],
   "source": [
    "# AC\n",
    "N = int(input())\n",
    "data = list(map(int, input().split()))\n",
    "count = 100000\n",
    "tmp = 0\n",
    "for i in range(N):\n",
    "    while True: \n",
    "        if data[i] % 2 == 0:\n",
    "            data[i] /= 2\n",
    "            tmp += 1\n",
    "            if tmp >= count:\n",
    "                tmp = 0\n",
    "                break\n",
    "        else:\n",
    "            count = tmp\n",
    "            tmp = 0\n",
    "            break\n",
    "print(count)"
   ]
  },
  {
   "cell_type": "markdown",
   "id": "4a3a9492-74a7-445a-9d01-ce9f5b05d607",
   "metadata": {},
   "source": [
    "# ABC087B - Coins"
   ]
  },
  {
   "cell_type": "code",
   "execution_count": 3,
   "id": "caa72f8d-18a7-416b-82c2-d2fb70039ea2",
   "metadata": {},
   "outputs": [
    {
     "name": "stdin",
     "output_type": "stream",
     "text": [
      " 30\n",
      " 40\n",
      " 50\n",
      " 6000\n"
     ]
    },
    {
     "name": "stdout",
     "output_type": "stream",
     "text": [
      "213\n"
     ]
    }
   ],
   "source": [
    "A = int(input())\n",
    "B = int(input())\n",
    "C = int(input())\n",
    "X = int(input())\n",
    "count = 0\n",
    "for i in range(A + 1):\n",
    "    for j in range(B + 1):\n",
    "        for k in range(C + 1):\n",
    "            if (500*i + 100*j + 50*k) == X:\n",
    "                count += 1\n",
    "print(count)"
   ]
  },
  {
   "cell_type": "markdown",
   "id": "05c8bea0-54b4-4e85-82d1-d0f82f41ce80",
   "metadata": {},
   "source": [
    "# ABC083B - Some Sums"
   ]
  },
  {
   "cell_type": "code",
   "execution_count": 24,
   "id": "0bb217b1-ac8b-4ddd-b26f-55a1bb9b7346",
   "metadata": {},
   "outputs": [
    {
     "name": "stdin",
     "output_type": "stream",
     "text": [
      " 10 1 2\n"
     ]
    },
    {
     "name": "stdout",
     "output_type": "stream",
     "text": [
      "13\n"
     ]
    }
   ],
   "source": [
    "N, A, B = map(int, input().split())\n",
    "count = 0\n",
    "for i in range(N+1):\n",
    "    x = str(i)\n",
    "    z = sum([int(y) for y in x])\n",
    "    if (z>=A) and (z<=B):\n",
    "        count += int(x)\n",
    "print(count)"
   ]
  },
  {
   "cell_type": "code",
   "execution_count": 16,
   "id": "b04323c9-2f25-4a6f-b248-63de238c65a0",
   "metadata": {},
   "outputs": [
    {
     "data": {
      "text/plain": [
       "2"
      ]
     },
     "execution_count": 16,
     "metadata": {},
     "output_type": "execute_result"
    }
   ],
   "source": [
    "z"
   ]
  },
  {
   "cell_type": "code",
   "execution_count": null,
   "id": "ce681549-0902-4eba-b980-22df6d078753",
   "metadata": {},
   "outputs": [],
   "source": []
  },
  {
   "cell_type": "code",
   "execution_count": 4,
   "id": "0cd90199-723d-41bc-b48d-dace33f822a3",
   "metadata": {},
   "outputs": [
    {
     "data": {
      "text/plain": [
       "0"
      ]
     },
     "execution_count": 4,
     "metadata": {},
     "output_type": "execute_result"
    }
   ],
   "source": [
    "i = 20\n",
    "i % 10"
   ]
  },
  {
   "cell_type": "code",
   "execution_count": 10,
   "id": "9fe3259d-6045-443d-930d-d3df4b970fc0",
   "metadata": {},
   "outputs": [
    {
     "data": {
      "text/plain": [
       "6"
      ]
     },
     "execution_count": 10,
     "metadata": {},
     "output_type": "execute_result"
    }
   ],
   "source": [
    "x = str(15)\n",
    "sum([int(y) for y in x])"
   ]
  },
  {
   "cell_type": "code",
   "execution_count": 9,
   "id": "bbc82f34-3adf-4386-8577-cfad1143c032",
   "metadata": {},
   "outputs": [
    {
     "data": {
      "text/plain": [
       "'15'"
      ]
     },
     "execution_count": 9,
     "metadata": {},
     "output_type": "execute_result"
    }
   ],
   "source": [
    "x"
   ]
  },
  {
   "cell_type": "markdown",
   "id": "20a9ab17-77e6-4e68-af59-c68490a024c6",
   "metadata": {},
   "source": [
    "# ABC088B - Card Game for Two"
   ]
  },
  {
   "cell_type": "code",
   "execution_count": 7,
   "id": "d015602b-eacb-46d2-9287-f1ba6357a5e4",
   "metadata": {},
   "outputs": [
    {
     "name": "stdin",
     "output_type": "stream",
     "text": [
      " 4\n",
      " 20 18 2 18\n"
     ]
    },
    {
     "name": "stdout",
     "output_type": "stream",
     "text": [
      "18\n"
     ]
    }
   ],
   "source": [
    "N = int(input())\n",
    "data = list(map(int, input().split()))\n",
    "data.sort(reverse=True)\n",
    "A = sum(data[::2])\n",
    "B = sum(data[1::2])\n",
    "print(A-B)"
   ]
  },
  {
   "cell_type": "code",
   "execution_count": 3,
   "id": "cb03b3fa-92fb-449e-8dbb-353f73c22f59",
   "metadata": {},
   "outputs": [
    {
     "data": {
      "text/plain": [
       "[7, 4, 2]"
      ]
     },
     "execution_count": 3,
     "metadata": {},
     "output_type": "execute_result"
    }
   ],
   "source": [
    "data"
   ]
  },
  {
   "cell_type": "code",
   "execution_count": 5,
   "id": "14d4f184-81f9-433b-95ca-3dc807410995",
   "metadata": {},
   "outputs": [
    {
     "data": {
      "text/plain": [
       "([7, 2], [4])"
      ]
     },
     "execution_count": 5,
     "metadata": {},
     "output_type": "execute_result"
    }
   ],
   "source": [
    "data[::2], data[1::2]"
   ]
  },
  {
   "cell_type": "code",
   "execution_count": 29,
   "id": "233cdfec-64b4-43ee-abd8-daca90cdc2cb",
   "metadata": {},
   "outputs": [
    {
     "data": {
      "text/plain": [
       "\u001b[1;31mSignature:\u001b[0m \u001b[0mdata\u001b[0m\u001b[1;33m.\u001b[0m\u001b[0msort\u001b[0m\u001b[1;33m(\u001b[0m\u001b[1;33m*\u001b[0m\u001b[1;33m,\u001b[0m \u001b[0mkey\u001b[0m\u001b[1;33m=\u001b[0m\u001b[1;32mNone\u001b[0m\u001b[1;33m,\u001b[0m \u001b[0mreverse\u001b[0m\u001b[1;33m=\u001b[0m\u001b[1;32mFalse\u001b[0m\u001b[1;33m)\u001b[0m\u001b[1;33m\u001b[0m\u001b[1;33m\u001b[0m\u001b[0m\n",
       "\u001b[1;31mDocstring:\u001b[0m\n",
       "Sort the list in ascending order and return None.\n",
       "\n",
       "The sort is in-place (i.e. the list itself is modified) and stable (i.e. the\n",
       "order of two equal elements is maintained).\n",
       "\n",
       "If a key function is given, apply it once to each list item and sort them,\n",
       "ascending or descending, according to their function values.\n",
       "\n",
       "The reverse flag can be set to sort in descending order.\n",
       "\u001b[1;31mType:\u001b[0m      builtin_function_or_method"
      ]
     },
     "metadata": {},
     "output_type": "display_data"
    }
   ],
   "source": [
    "?data.sort"
   ]
  },
  {
   "cell_type": "markdown",
   "id": "ba8dc171-c739-42b5-9eb4-f19c1f1239a8",
   "metadata": {},
   "source": [
    "# ABC085B - Kagami Mochi"
   ]
  },
  {
   "cell_type": "code",
   "execution_count": 13,
   "id": "c32350d2-44d2-4888-8bc5-1be73bb19d10",
   "metadata": {},
   "outputs": [
    {
     "name": "stdin",
     "output_type": "stream",
     "text": [
      " 7\n",
      " 50\n",
      " 30\n",
      " 50\n",
      " 100\n",
      " 50\n",
      " 80\n",
      " 30\n"
     ]
    },
    {
     "name": "stdout",
     "output_type": "stream",
     "text": [
      "4\n"
     ]
    }
   ],
   "source": [
    "N = int(input())\n",
    "data = []\n",
    "for i in range(N):\n",
    "    data.append((int(input())))\n",
    "print(len(set(data)))"
   ]
  },
  {
   "cell_type": "code",
   "execution_count": 9,
   "id": "157f73d2-1407-47ed-bae9-f80f78c30d65",
   "metadata": {},
   "outputs": [
    {
     "data": {
      "text/plain": [
       "3"
      ]
     },
     "execution_count": 9,
     "metadata": {},
     "output_type": "execute_result"
    }
   ],
   "source": [
    "data = [10, 8, 8, 6]\n",
    "len(set(data))"
   ]
  },
  {
   "cell_type": "markdown",
   "id": "1c0741a3-27a4-4af3-a551-0909ee837e9a",
   "metadata": {},
   "source": [
    "# ABC085C - Otoshidama"
   ]
  },
  {
   "cell_type": "code",
   "execution_count": 31,
   "id": "205bd6cc-3784-4c38-8a51-43a20cdcb351",
   "metadata": {},
   "outputs": [
    {
     "name": "stdin",
     "output_type": "stream",
     "text": [
      " 1000 1234000\n"
     ]
    },
    {
     "name": "stdout",
     "output_type": "stream",
     "text": [
      "2 54 944\n"
     ]
    }
   ],
   "source": [
    "# TLE\n",
    "N, Y = map(int, input().split())\n",
    "found = False\n",
    "for i in range(N+1):\n",
    "    for j in range(N+1-i):\n",
    "        for k in range(N+1-i-j):\n",
    "            if ((k*10000 + j*5000 + i*1000)==Y) & (i+j+k == N) :\n",
    "                print(k, j, i)\n",
    "                found = True\n",
    "                break\n",
    "        if found == True:\n",
    "            break\n",
    "    if found == True:\n",
    "        break\n",
    "if found == False:\n",
    "    print(-1, -1, -1)"
   ]
  },
  {
   "cell_type": "code",
   "execution_count": 17,
   "id": "2a36238c-3e5b-446f-a5fb-ed501fe67b96",
   "metadata": {},
   "outputs": [
    {
     "data": {
      "text/plain": [
       "(4, 9, 45)"
      ]
     },
     "execution_count": 17,
     "metadata": {},
     "output_type": "execute_result"
    }
   ],
   "source": [
    "45000//10000, 45000//5000, 45000//1000"
   ]
  },
  {
   "cell_type": "code",
   "execution_count": 32,
   "id": "dbb22f46-2587-4a13-9e5c-0b67dd101dea",
   "metadata": {},
   "outputs": [
    {
     "data": {
      "text/plain": [
       "1234000"
      ]
     },
     "execution_count": 32,
     "metadata": {},
     "output_type": "execute_result"
    }
   ],
   "source": [
    "2*10000 + 54*5000 + 944*1000"
   ]
  },
  {
   "cell_type": "code",
   "execution_count": null,
   "id": "e4affdbc-ba00-4190-b0c3-3fe1f8402f2f",
   "metadata": {},
   "outputs": [],
   "source": []
  },
  {
   "cell_type": "code",
   "execution_count": 35,
   "id": "fff74c2e-b30c-4ded-afb4-c0654a48195c",
   "metadata": {},
   "outputs": [
    {
     "name": "stdin",
     "output_type": "stream",
     "text": [
      " 2000 20000000\n"
     ]
    },
    {
     "name": "stdout",
     "output_type": "stream",
     "text": [
      "2000 0 0\n"
     ]
    }
   ],
   "source": [
    "# AC\n",
    "N, Y = map(int, input().split())\n",
    "found = False\n",
    "for i in range(N+1):\n",
    "    for j in range(N+1-i):\n",
    "        k = N - (i+j)\n",
    "        if ((k*10000 + j*5000 + i*1000)==Y) & (i+j+k == N) :\n",
    "            print(k, j, i)\n",
    "            found = True\n",
    "            break\n",
    "    if found == True:\n",
    "        break\n",
    "if found == False:\n",
    "    print(-1, -1, -1)"
   ]
  },
  {
   "cell_type": "code",
   "execution_count": null,
   "id": "59e45668-7b25-4b11-a520-2c8601194c43",
   "metadata": {},
   "outputs": [],
   "source": []
  },
  {
   "cell_type": "code",
   "execution_count": null,
   "id": "90bcd2aa-d87c-4934-854e-42ed98e46a1a",
   "metadata": {},
   "outputs": [],
   "source": []
  },
  {
   "cell_type": "code",
   "execution_count": null,
   "id": "4bad70d1-eb65-463f-8125-560b2b06724b",
   "metadata": {},
   "outputs": [],
   "source": []
  },
  {
   "cell_type": "code",
   "execution_count": null,
   "id": "c88d1f6e-d518-45a8-984e-a8a333099fd4",
   "metadata": {},
   "outputs": [],
   "source": []
  },
  {
   "cell_type": "code",
   "execution_count": null,
   "id": "08882fe9-56d3-47e9-ba50-2f471dd45885",
   "metadata": {},
   "outputs": [],
   "source": []
  },
  {
   "cell_type": "markdown",
   "id": "5affc0df-d719-46aa-8bc5-88df704a3430",
   "metadata": {},
   "source": [
    "# ABC049C - 白昼夢"
   ]
  },
  {
   "cell_type": "code",
   "execution_count": 6,
   "id": "d5098cd1-8c03-483b-a100-0cbd2dde919c",
   "metadata": {},
   "outputs": [
    {
     "name": "stdin",
     "output_type": "stream",
     "text": [
      " dreameraser\n"
     ]
    },
    {
     "name": "stdout",
     "output_type": "stream",
     "text": [
      "eraser\n",
      "r\n",
      "NO\n",
      "r\n"
     ]
    }
   ],
   "source": [
    "S = input()\n",
    "flg = False\n",
    "while True:\n",
    "    if S != '':\n",
    "        if S[:5] in ('dream', 'erase'):\n",
    "            S = S[5:]\n",
    "            print(S)\n",
    "        elif S[:6] == 'eraser':\n",
    "            S = S[6:]\n",
    "            print(S)\n",
    "        elif S[:7] == 'dreamer':\n",
    "            S = S[7:]\n",
    "            print(S)\n",
    "        else:\n",
    "            print('NO')\n",
    "            print(S)\n",
    "            flg = True\n",
    "            break\n",
    "    else:\n",
    "        print('YES')\n",
    "        flg = True\n",
    "    if flg == True:\n",
    "        break"
   ]
  },
  {
   "cell_type": "code",
   "execution_count": 38,
   "id": "0dbd8140-5a40-4fba-8710-730903174ea7",
   "metadata": {},
   "outputs": [
    {
     "data": {
      "text/plain": [
       "('erase', 'erased', 'erasedr')"
      ]
     },
     "execution_count": 38,
     "metadata": {},
     "output_type": "execute_result"
    }
   ],
   "source": [
    "S = 'erasedream'\n",
    "S[:5], S[:6], S[:7]"
   ]
  },
  {
   "cell_type": "code",
   "execution_count": 39,
   "id": "1fc19bbb-fec9-457e-a21f-ff175ed6596c",
   "metadata": {},
   "outputs": [
    {
     "data": {
      "text/plain": [
       "'dream'"
      ]
     },
     "execution_count": 39,
     "metadata": {},
     "output_type": "execute_result"
    }
   ],
   "source": [
    "S[5:]"
   ]
  },
  {
   "cell_type": "markdown",
   "id": "2aa547c6-4057-4a41-9f9c-740e54708cf7",
   "metadata": {},
   "source": [
    "# "
   ]
  },
  {
   "cell_type": "code",
   "execution_count": null,
   "id": "b2160f1d-558f-4730-9394-d9cbd6c63053",
   "metadata": {},
   "outputs": [],
   "source": []
  },
  {
   "cell_type": "code",
   "execution_count": 16,
   "id": "ecfed966-8fe8-4ee4-b829-ff98e5aa9a2f",
   "metadata": {},
   "outputs": [
    {
     "name": "stdin",
     "output_type": "stream",
     "text": [
      " erasedream\n"
     ]
    },
    {
     "data": {
      "text/plain": [
       "\"\\nwhile True:\\n    if S != '':\\n        \\n    else:\\n        print('YES')\\n        flg = True\\n    if flg == True:\\n        break\""
      ]
     },
     "execution_count": 16,
     "metadata": {},
     "output_type": "execute_result"
    }
   ],
   "source": [
    "import copy\n",
    "S = input()\n",
    "S_ = copy.copy(S)\n",
    "flg = False\n",
    "\n",
    "def check_erase(S):\n",
    "    if S[:5] == 'erase':\n",
    "        S = S[5:]\n",
    "        return S\n",
    "    else:\n",
    "        return S\n",
    "def check_eraser(S):\n",
    "    if S[:6] == 'eraser':\n",
    "        S = S[6:]\n",
    "        return S\n",
    "    else:\n",
    "        return S\n",
    "def check_dream(S):\n",
    "    if S[:5] == 'dream':\n",
    "        S = S[5:]\n",
    "        return S\n",
    "    else:\n",
    "        return S\n",
    "def check_dreamer(S):\n",
    "    if S[:7] == 'dreamer':\n",
    "        S = S[7:]\n",
    "        return S\n",
    "    else:\n",
    "        return S\n",
    "\n",
    "e_li = [check_erase, check_eraser]\n",
    "\n",
    "\n",
    "while True:\n",
    "    if S != '':\n",
    "        \n",
    "    else:\n",
    "        print('YES')\n",
    "        flg = True\n",
    "    if flg == True:\n",
    "        break"
   ]
  },
  {
   "cell_type": "code",
   "execution_count": 16,
   "id": "0c82c22f-0319-40f7-bb9c-020b585bca75",
   "metadata": {},
   "outputs": [
    {
     "name": "stdin",
     "output_type": "stream",
     "text": [
      " erasedream\n"
     ]
    },
    {
     "data": {
      "text/plain": [
       "\"\\nwhile True:\\n    if S != '':\\n        \\n    else:\\n        print('YES')\\n        flg = True\\n    if flg == True:\\n        break\""
      ]
     },
     "execution_count": 16,
     "metadata": {},
     "output_type": "execute_result"
    }
   ],
   "source": [
    "import copy\n",
    "S = input()\n",
    "t = len(S)//7 + 1\n",
    "flg = False\n",
    "def check_erase(S):\n",
    "    if S[:5] == 'erase':\n",
    "        S = S[5:]\n",
    "        return S\n",
    "    else:\n",
    "        return S\n",
    "def check_eraser(S):\n",
    "    if S[:6] == 'eraser':\n",
    "        S = S[6:]\n",
    "        return S\n",
    "    else:\n",
    "        return S\n",
    "def check_dream(S):\n",
    "    if S[:5] == 'dream':\n",
    "        S = S[5:]\n",
    "        return S\n",
    "    else:\n",
    "        return S\n",
    "def check_dreamer(S):\n",
    "    if S[:7] == 'dreamer':\n",
    "        S = S[7:]\n",
    "        return S\n",
    "    else:\n",
    "        return S\n",
    "\n",
    "e_li = [check_erase, check_eraser]\n",
    "\n",
    "\n",
    "while True:\n",
    "    if S != '':\n",
    "        \n",
    "    else:\n",
    "        print('YES')\n",
    "        flg = True\n",
    "    if flg == True:\n",
    "        break"
   ]
  },
  {
   "cell_type": "code",
   "execution_count": 11,
   "id": "dbe89ab6-9042-4892-ad45-f9315f7d6ead",
   "metadata": {},
   "outputs": [
    {
     "data": {
      "text/plain": [
       "('i', 'ok')"
      ]
     },
     "execution_count": 11,
     "metadata": {},
     "output_type": "execute_result"
    }
   ],
   "source": [
    "import copy\n",
    "S = 'ok'\n",
    "S_ = copy.copy(S)\n",
    "S = 'i'\n",
    "S, S_"
   ]
  },
  {
   "cell_type": "code",
   "execution_count": 17,
   "id": "18f286f7-397b-4062-8896-afd04ba87a8d",
   "metadata": {},
   "outputs": [
    {
     "data": {
      "text/plain": [
       "'dream'"
      ]
     },
     "execution_count": 17,
     "metadata": {},
     "output_type": "execute_result"
    }
   ],
   "source": [
    "e_li[0]('erasedream')"
   ]
  },
  {
   "cell_type": "code",
   "execution_count": 19,
   "id": "7b638291-f3c5-4b5d-a5a3-593ab29c0137",
   "metadata": {},
   "outputs": [
    {
     "data": {
      "text/plain": [
       "(10, 2)"
      ]
     },
     "execution_count": 19,
     "metadata": {},
     "output_type": "execute_result"
    }
   ],
   "source": [
    "S = 'erasedream'\n",
    "len(S), len(S)//7 + 1"
   ]
  },
  {
   "cell_type": "code",
   "execution_count": null,
   "id": "0f40db7f-99c0-41f4-8dfd-70a81a8d8f9d",
   "metadata": {},
   "outputs": [],
   "source": []
  },
  {
   "cell_type": "code",
   "execution_count": null,
   "id": "890c13bd-4d63-4052-adaa-69834af209f4",
   "metadata": {},
   "outputs": [],
   "source": []
  },
  {
   "cell_type": "code",
   "execution_count": null,
   "id": "8db6a4cb-a69b-4d46-977e-223c11fb604c",
   "metadata": {},
   "outputs": [],
   "source": []
  },
  {
   "cell_type": "code",
   "execution_count": null,
   "id": "1b39659b-7bb6-478d-b740-f402fb78110e",
   "metadata": {},
   "outputs": [],
   "source": []
  },
  {
   "cell_type": "code",
   "execution_count": null,
   "id": "cf253d11-0a64-4d5e-b886-064538a951dc",
   "metadata": {},
   "outputs": [],
   "source": []
  },
  {
   "cell_type": "code",
   "execution_count": null,
   "id": "3c3ac676-3fc0-4ce3-ad5e-00ebdf0bb0ff",
   "metadata": {},
   "outputs": [],
   "source": []
  },
  {
   "cell_type": "code",
   "execution_count": null,
   "id": "218f850c-e7e4-404e-8ace-52fab3988a7c",
   "metadata": {},
   "outputs": [],
   "source": []
  },
  {
   "cell_type": "code",
   "execution_count": null,
   "id": "2ec92cdf-ac95-45ff-8671-ae3245bbb54e",
   "metadata": {},
   "outputs": [],
   "source": []
  },
  {
   "cell_type": "code",
   "execution_count": null,
   "id": "e4fa7619-8322-4cd9-a2eb-85fcb6eb8eb2",
   "metadata": {},
   "outputs": [],
   "source": []
  },
  {
   "cell_type": "code",
   "execution_count": null,
   "id": "546221ae-e160-47a2-a5dc-1905d6823915",
   "metadata": {},
   "outputs": [],
   "source": []
  },
  {
   "cell_type": "code",
   "execution_count": null,
   "id": "c24cc659-67ab-4892-9b85-89da7ef67270",
   "metadata": {},
   "outputs": [],
   "source": []
  }
 ],
 "metadata": {
  "kernelspec": {
   "display_name": "Python 3 (ipykernel)",
   "language": "python",
   "name": "python3"
  },
  "language_info": {
   "codemirror_mode": {
    "name": "ipython",
    "version": 3
   },
   "file_extension": ".py",
   "mimetype": "text/x-python",
   "name": "python",
   "nbconvert_exporter": "python",
   "pygments_lexer": "ipython3",
   "version": "3.12.4"
  }
 },
 "nbformat": 4,
 "nbformat_minor": 5
}
